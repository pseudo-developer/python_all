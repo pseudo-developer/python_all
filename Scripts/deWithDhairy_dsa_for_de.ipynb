{
 "cells": [
  {
   "cell_type": "markdown",
   "metadata": {},
   "source": [
    "# Problem 1 - Two sum"
   ]
  },
  {
   "cell_type": "markdown",
   "metadata": {},
   "source": [
    "### Method - 1 : First and Last variable sum"
   ]
  },
  {
   "cell_type": "code",
   "execution_count": 47,
   "metadata": {},
   "outputs": [
    {
     "data": {
      "text/plain": [
       "[(2, 11), (9, 4)]"
      ]
     },
     "execution_count": 47,
     "metadata": {},
     "output_type": "execute_result"
    }
   ],
   "source": [
    "# Time complexity = O(n) (only 1 loop)\n",
    "# Space Complexity = O(1) (nothing is getting stored)\n",
    "\n",
    "class two_sum_solver_prob1:\n",
    "    def __init__(self,lst, target):\n",
    "        self.lst = lst\n",
    "        self.target = target\n",
    "    \n",
    "    def two_sum(self):\n",
    "        i = 0\n",
    "        j = len(self.lst) - 1\n",
    "        pairs = []\n",
    "\n",
    "        while i < j:\n",
    "            if self.lst[i] + self.lst[j] == self.target:\n",
    "                pairs.append((self.lst[i],self.lst[j]))\n",
    "                i += 1\n",
    "                j -= 1\n",
    "            elif self.lst[i] + self.lst[j] < self.target:   # sum less than target, then increase \"i\", to inc sum\n",
    "                i += 1\n",
    "            else:\n",
    "                j -= 1                                 # sum more than target, then decrease \"i\", to dec sum\n",
    "\n",
    "        return pairs\n",
    "\n",
    "prob1_method1_list = [-2, 1, 2, 4, 7, 9, 4, 11]   # Given a SORTED list\n",
    "prob1_method1_target = 13\n",
    "solver = two_sum_solver_prob1(prob1_method1_list, prob1_method1_target)\n",
    "solver.two_sum()"
   ]
  },
  {
   "cell_type": "markdown",
   "metadata": {},
   "source": [
    "### Method 2 - Hash Table Method"
   ]
  },
  {
   "cell_type": "code",
   "execution_count": null,
   "metadata": {},
   "outputs": [
    {
     "name": "stdout",
     "output_type": "stream",
     "text": [
      "The pair is this : 4 9\n"
     ]
    },
    {
     "data": {
      "text/plain": [
       "True"
      ]
     },
     "execution_count": 20,
     "metadata": {},
     "output_type": "execute_result"
    }
   ],
   "source": [
    "## Approach:\n",
    "# A = [2,4,6]\n",
    "# target = 10\n",
    " \n",
    "# 1st iteration : i = 0\n",
    "# ht = dict()\n",
    "# ht[target - a[i]] :ht[8] = 2  ->We keep storing the complement:value pair in this dict\n",
    "# so ht looks like : {'8':2}\n",
    "\n",
    "# 2nd iteration: i = 1\n",
    "# ht[target - a[i]]: ht[6] = 4\n",
    "# so ht looks like : { '8':2, \n",
    "#                     '6':4 }\n",
    "\n",
    "# 3rd iteration: It finds that the third element is 6, which is present already in the dict. So it will stop here and fetch the value of the \"key\" (6 in this case) as output\n",
    "\n",
    "# Time complexity = O(n) (single for loop)\n",
    "# Space Complexity = O(n) (storing dict)\n",
    "def two_sum_hash_prob(a,target):\n",
    "    ht = dict()\n",
    "    for i in range(len(a)):\n",
    "        if a[i] in ht:\n",
    "            print(\"The pair is this :\", ht[a[i]], a[i])\n",
    "            return True\n",
    "        else:\n",
    "            ht[target -  a[i]] = a[i]\n",
    "    return False\n",
    "\n",
    "prob1_method2_list2 = [-2, 1, 2, 4, 7, 9, 4, 11]   # Given a SORTED list\n",
    "prob1_method2_target = 13\n",
    "two_sum_hash_prob(prob1_method2_list2,prob1_method2_target)"
   ]
  },
  {
   "cell_type": "markdown",
   "metadata": {},
   "source": [
    "### Method 3 - Brute Force"
   ]
  },
  {
   "cell_type": "code",
   "execution_count": 21,
   "metadata": {},
   "outputs": [
    {
     "name": "stdout",
     "output_type": "stream",
     "text": [
      "The pair is this : 2 11\n"
     ]
    },
    {
     "data": {
      "text/plain": [
       "True"
      ]
     },
     "execution_count": 21,
     "metadata": {},
     "output_type": "execute_result"
    }
   ],
   "source": [
    "# Method 3 : BRUTE FORCE\n",
    "\n",
    "# Time complexity = O(n^2) (two for loops in nested way)\n",
    "# Space Complexity = O(1) (nothing is getting stored)\n",
    "\n",
    "def two_sum_brute_force(A, target):\n",
    "    for i in range(len(A) - 1):\n",
    "        for j in range(i+1, len(A)):\n",
    "            if A[i] + A[j] == target:\n",
    "                print(\"The pair is this :\",A[i],A[j])\n",
    "                return True\n",
    "    return False\n",
    "\n",
    "prob1_method3_list2 = [-2,1,2,4,7,11]\n",
    "prob1_method3_target = 13\n",
    "two_sum_brute_force(prob1_method3_list2, prob1_method3_target)"
   ]
  },
  {
   "cell_type": "markdown",
   "metadata": {},
   "source": [
    "# Problem 2 - Merge Sorted Array (leetcode - 88)"
   ]
  },
  {
   "cell_type": "markdown",
   "metadata": {},
   "source": [
    "Input : nums1 = [1,2,3,0,0,0], m = 3, nums2 = [2,5,6], n = 3 \n",
    "Output : [1,2,2,3,5,6]\n",
    "\n",
    "Description - The arrays we are merging are [1,2,3] and [2,5,6]. The result of the merge is [1,2,2,3,5,6] with the underlined elements coming from nums1 list. The count of elements in the final merged list should of length of nums1 list."
   ]
  },
  {
   "cell_type": "code",
   "execution_count": 33,
   "metadata": {},
   "outputs": [
    {
     "data": {
      "text/plain": [
       "[1, 2, 2, 3, 5, 6]"
      ]
     },
     "execution_count": 33,
     "metadata": {},
     "output_type": "execute_result"
    }
   ],
   "source": [
    "# Time Complexity: O(m + n)\n",
    "# Space Complexity: O(1) (in-place merging)\n",
    "\n",
    "def merged_sorted_array(arr1, arr2, m, n):\n",
    "    i = m - 1 # variable for counter in loop \n",
    "    j = n - 1 # variable for counter in loop\n",
    "    k = m + n - 1\n",
    "\n",
    "    while i>=0  and j>=0:\n",
    "        if arr1[i] > arr2[j]:  # if element at \"i\"th position in arr1 is > \"j\"th position in arr2, then put it at kth place in merged list\n",
    "            arr1[k] = arr1[i]\n",
    "            k -= 1             # Since the \"k\"th position is filled now, decrease \"k\" by 1 to get a new value for next iteration\n",
    "            i -= 1\n",
    "        else:                  # if element at \"j\"th position in arr2 is > \"i\"th position in arr1, then put it at kth place in merged list\n",
    "            arr1[k] = arr2[j]\n",
    "            k -= 1             # Since the \"k\"th position is filled now, decrease \"k\" by 1 to get a new value for next iteration\n",
    "            j -= 1\n",
    "\n",
    "    \n",
    "    # above loop breaks in case either i or j gets negative, which mean elements in any of the sub-lists falls short first.\n",
    "        \n",
    "    # Now lets say \"i\"th position in arr1 didnt change at all, because all elements from arr2 were smaller than the \"i\"th element of arr1, so we need to just append these elements now in final list, since they are already sorted in ascending order, we can just keep appending them in final list by reading them from arr1 in backward order\n",
    "    \n",
    "    # Same, for any elemetn that got lwft in arr2 (in opposite scenario)\n",
    "\n",
    "    while i >= 0:\n",
    "        arr1[k] = arr1[i]\n",
    "        k -= 1\n",
    "        i -= 1\n",
    "\n",
    "    while j >= 0:\n",
    "        arr1[k] = arr1[j]\n",
    "        k -= 1\n",
    "        j -= 1\n",
    "\n",
    "    # return final list\n",
    "    return arr1\n",
    "\n",
    "\n",
    "prob1_method2_list1 = [1,2,3,0,0,0]\n",
    "prob2_m = 3\n",
    "prob1_method2_list2 = [2,5,6]\n",
    "prob2_n = 3\n",
    "merged_sorted_array(prob1_method2_list1, prob1_method2_list2, prob2_m, prob2_n)"
   ]
  },
  {
   "cell_type": "code",
   "execution_count": null,
   "metadata": {},
   "outputs": [],
   "source": [
    "# ✅ Time Complexity:\n",
    "# The time complexity is O(m + n).\n",
    "\n",
    "# Why?\n",
    "# The first while loop compares elements from both arrays (arr1 and arr2). Each element from both arrays is processed at most once.\n",
    "# The next two while loops handle any remaining elements in either array, which again ensures that every element is processed exactly once.\n",
    "# Thus, the total time is proportional to the sum of the lengths of the arrays: O(m + n).\n",
    "\n",
    "# ✅ Space Complexity:\n",
    "# The space complexity is O(1) (constant space).\n",
    "\n",
    "# Why?\n",
    "# The merging is done in-place within arr1 without using any additional data structures (like new arrays or lists).\n",
    "# Only a few integer variables (i, j, k) are used to track indices.\n",
    "# Hence, it’s O(1) in terms of extra space usage."
   ]
  },
  {
   "cell_type": "markdown",
   "metadata": {},
   "source": [
    "# Problem 3 - Valid Palindrome (leetcode - 125)"
   ]
  },
  {
   "cell_type": "markdown",
   "metadata": {},
   "source": [
    "Description - Convert the input string into lowercase and also remove all the spaces and non-aphanumeric characters. Then check if it reads the same forward and backward. Alpha-numeric characters include letters and numbers."
   ]
  },
  {
   "cell_type": "code",
   "execution_count": 35,
   "metadata": {},
   "outputs": [
    {
     "name": "stdout",
     "output_type": "stream",
     "text": [
      "prob3_str1: output: True\n",
      "prob3_str2: output: True\n"
     ]
    }
   ],
   "source": [
    "# TC : O(len(s))\n",
    "# SC : O(1)\n",
    "\n",
    "class solution3:\n",
    "    @staticmethod    # Used this because while executing the solution I didnt want to create an instance first (in the case when i need to create an instance method \"isPalindrome\", which takes \"self\" parameter) and I wanted to only call the function directly using the class.\n",
    "    def isPalindrome(s:str) -> bool:\n",
    "        i = 0\n",
    "        j = len(s) - 1\n",
    "\n",
    "        while i < j:\n",
    "            if s[i].isalnum() == False:\n",
    "                i += 1\n",
    "            elif s[j].isalnum() == False:\n",
    "                j -= 1\n",
    "            elif s[i].lower() == s[j].lower():\n",
    "                i += 1\n",
    "                j -= 1\n",
    "            else:\n",
    "                return False\n",
    "        \n",
    "        return True\n",
    "    \n",
    "    # Sasta methdod\n",
    "    @staticmethod\n",
    "    def check_palindrome_1(str1, str2):\n",
    "        if str1.lower() == str1.lower()[::-1]:        # (RHS means lower_string_1 in reverse order)\n",
    "            print(str1,' is palindrome')\n",
    "        else:\n",
    "            print(\"Not palindrome\")\n",
    "\n",
    "\n",
    "prob3_str1 = 'Naman'\n",
    "print(\"prob3_str1: output:\",solution3.isPalindrome(prob3_str1))\n",
    "\n",
    "prob3_str2 = \"A man, a plan, a canal: Panama\"     \n",
    "print(\"prob3_str2: output:\",solution3.isPalindrome(prob3_str2))     # Since the cleaned-up version is the same forward and backward (\"amanaplanacanalpanama\"), your code will return True."
   ]
  },
  {
   "cell_type": "markdown",
   "metadata": {},
   "source": [
    "# Problem 4 : Two sum II - Input Array Is Sorted (leetcode - 167)"
   ]
  },
  {
   "cell_type": "markdown",
   "metadata": {},
   "source": [
    "Given a 1-indexed array of integers (\"numbers\" : name of list) that is already sorted in non-decreasing order, find two numbers such that they add up to a specific \"tagrget\" number. Let these two numbers be numbers[index1] = numbers[index2], where 1 <= index1 < index2 <= numbers.length.\n",
    "\n",
    "Return the indices of the two numbers, index1 and index2, **added by one as an integer** array [index1, index2] of length 2.\n",
    "\n",
    "The tests are generated such that there is **Exactly One Solution**. -> Means once your two elements hit sum as equal to target, break the loop. \n",
    "\n",
    "You may not use the same element twice. -> Means dont add an element to itself (an ith index element to ith index element)\n",
    "\n",
    "Your solution must use only constant space. -> dont create extra variable to hold the output"
   ]
  },
  {
   "cell_type": "code",
   "execution_count": 43,
   "metadata": {},
   "outputs": [
    {
     "name": "stdout",
     "output_type": "stream",
     "text": [
      "prob4_lst1: output: [1, 2]\n"
     ]
    }
   ],
   "source": [
    "# So since we have so many contraints as mentioned and explained in self-explanatory language + Array is sorted in ascending order - We can go with either \"two-pointer\" approach or \"Binary-search\" (but binary search can only find one element/index, so since we have to find two elements (indices) whose sum equals target, we go for two-sum). Brute force method will throw \"time limit error\" in this case due to O(n^2) as TC.\n",
    "\n",
    "# TC : O(n); SC : O(1) (as expected by constraints)\n",
    "class solution4:\n",
    "\n",
    "    # Two-Pointer: O(n) time, O(1) space (faster for sorted arrays).\n",
    "    @staticmethod\n",
    "    @staticmethod\n",
    "    def two_sum_method(lst: list, target:int) -> list[int]:\n",
    "        n = len(lst)\n",
    "        i = 0\n",
    "        j = len(lst) - 1\n",
    "\n",
    "        while i < j:\n",
    "            if lst[i] + lst[j] == target:\n",
    "                return [i+1, j+1]          # return index values by adding \"1\" as mentioned in question description.\n",
    "            elif lst[i] + lst[j] > target:\n",
    "                j -= 1\n",
    "            else:\n",
    "                i += 1\n",
    "        \n",
    "        return [-1,-1]\n",
    "\n",
    "\n",
    "# Test case\n",
    "prob4_lst1 = [2, 7, 11, 15]\n",
    "prob4_target1 = 9\n",
    "result = solution4.two_sum_method(prob4_lst1, prob4_target1)\n",
    "print(\"prob4_lst1: output:\", result)"
   ]
  },
  {
   "cell_type": "markdown",
   "metadata": {},
   "source": [
    "# Problem 5 - Is Subsequence (leetcode - 392)"
   ]
  },
  {
   "cell_type": "code",
   "execution_count": null,
   "metadata": {},
   "outputs": [
    {
     "name": "stdout",
     "output_type": "stream",
     "text": [
      "True\n"
     ]
    }
   ],
   "source": [
    "# TC : O(len(target_string))  # target_string = s2 (below)\n",
    "# SC : O(1)\n",
    "def is_subsequence_prob5(**kwargs):\n",
    "    s1 = kwargs.get('s1')\n",
    "    s2 = kwargs.get('s2')\n",
    "\n",
    "    i = 0\n",
    "    j = 0\n",
    "\n",
    "    if len(s1) == 0:  # Empty string is always a part of the bigger string\n",
    "        return True\n",
    "\n",
    "    if len(s2) == 0:  # No big string to compare from\n",
    "        return False\n",
    "\n",
    "    while i < len(s1) and j < len(s2):\n",
    "        if s1[i] == s2[j]:\n",
    "            i += 1\n",
    "            j += 1\n",
    "        else:\n",
    "            j += 1\n",
    "\n",
    "        if i == len(s1):\n",
    "            return True\n",
    "\n",
    "    return False\n",
    "\n",
    "# Test case using kwargs\n",
    "result = is_subsequence_prob5(s1=\"abc\", s2=\"ahbgdc\")\n",
    "print(result)  # Expected Output: True\n"
   ]
  },
  {
   "cell_type": "markdown",
   "metadata": {},
   "source": [
    "# Problem 6 - Container with most water (leetcode - 11)"
   ]
  },
  {
   "cell_type": "markdown",
   "metadata": {},
   "source": [
    "Given a list of integers which denotes the heights of blocks. Two blocks can form a container to store water. In this list they are stored in the same way they are located in reality, like if one block comes next to other it means it kept like that with a **distance of 1 unit**. \n",
    "\n",
    "So use this to find which two blocks form an imaginary container which can hold maximum water. \n",
    "\n",
    "Contraints - using brute force gives TLE (time limit error)\n"
   ]
  },
  {
   "cell_type": "code",
   "execution_count": null,
   "metadata": {},
   "outputs": [
    {
     "data": {
      "text/plain": [
       "49"
      ]
     },
     "execution_count": 52,
     "metadata": {},
     "output_type": "execute_result"
    }
   ],
   "source": [
    "# We can use here the two-pointer approach, taking i as first pointer and j at last pointer of the \"heights\" list (see execution below). Then findging the area of the space created using those two blocaks first. Note - distance is nothing but the difference of the index values of the two elements in list \"heights\". Now, we need to change on of the pointers, thinking that \"length\" (gap betweek the index of elements in heights list) and \"height\" both are maximised. So lets say we move \"i\" to \"i+1\", since now the value of the element in heights list is bigger than previous one, and gap between its index and the element at \"j\"th place is just decreasing by 1. So we can think like this... (see solution below)\n",
    "\n",
    "\n",
    "# TC - O(n); SC - O(1) -> using two_pointer - Why? : It skips unncessary comparisions when it knows the area wont be more than max_current_area at current iteration. For example, if the left line is shorter, we know that moving the right pointer inward won’t help (since the height is limited by the shorter line), so in that case moving the left line is helpful with the hope that we get a higher height in left value.\n",
    "\n",
    "# Why not Brute force - It will keep checking all possible iterations for all possible heights and distance, unlike two_pointer.\n",
    "class solution6:\n",
    "    @staticmethod\n",
    "    def container_max_water(heights):\n",
    "        i = 0\n",
    "        j = len(heights) - 1\n",
    "        area = 0\n",
    "\n",
    "        while i < j:\n",
    "            length = j - i\n",
    "            height = min(heights[i], heights[j])\n",
    "            current_area = length * height\n",
    "\n",
    "            area = max(area,current_area)\n",
    "\n",
    "            if heights[i] < heights[j]:\n",
    "                i += 1\n",
    "            else:\n",
    "                j -= 1\n",
    "        \n",
    "        return area\n",
    "\n",
    "heights = [1,8,6,2,5,4,8,3,7]\n",
    "solution6.container_max_water(heights)           \n"
   ]
  },
  {
   "cell_type": "markdown",
   "metadata": {},
   "source": [
    "# Problem 7 - Length of last word (leetcode - 58)"
   ]
  },
  {
   "cell_type": "markdown",
   "metadata": {},
   "source": [
    "Given a string of words and spaces, return the length of the last word in the string. \n",
    "\n",
    "A word is a maximal substring consisting of non-space characters only"
   ]
  },
  {
   "cell_type": "code",
   "execution_count": 54,
   "metadata": {},
   "outputs": [
    {
     "name": "stdout",
     "output_type": "stream",
     "text": [
      "output for prob7_input_string1 : 5\n",
      "output for prob7_input_string2 : 4\n"
     ]
    }
   ],
   "source": [
    "class solution7:\n",
    "    @staticmethod\n",
    "    def len_last_word(string_input):\n",
    "        stripped_str = string_input.strip()\n",
    "        spllitted_words = stripped_str.split(\" \")\n",
    "        last_Word = spllitted_words[-1]\n",
    "        length_of_last_word = len(last_Word)\n",
    "\n",
    "        return length_of_last_word\n",
    "    \n",
    "prob7_input_string1 = \"hello world\"\n",
    "prob7_input_string2 = \"    fly me to   the moon     \"\n",
    "print(\"output for prob7_input_string1 :\", solution7.len_last_word(prob7_input_string1))\n",
    "print(\"output for prob7_input_string2 :\", solution7.len_last_word(prob7_input_string2))"
   ]
  },
  {
   "cell_type": "markdown",
   "metadata": {},
   "source": [
    "# Problem 8 - Best time to buy and sell stocks (leetcode - 121)"
   ]
  },
  {
   "cell_type": "markdown",
   "metadata": {},
   "source": [
    "You can buy and sell only once.\n",
    "\n",
    "You want to find the maximum profit by choosing one day to buy and a later day to sell."
   ]
  },
  {
   "cell_type": "code",
   "execution_count": 55,
   "metadata": {},
   "outputs": [
    {
     "data": {
      "text/plain": [
       "5"
      ]
     },
     "execution_count": 55,
     "metadata": {},
     "output_type": "execute_result"
    }
   ],
   "source": [
    "class solution8:\n",
    "    @staticmethod\n",
    "    def max_profit(prices : list):\n",
    "        n = len(prices)\n",
    "\n",
    "        buy = 0\n",
    "        sell = 1\n",
    "\n",
    "        ans = 0\n",
    "        while sell<n:\n",
    "            profit = prices[sell] - prices[buy]\n",
    "            if prices[buy] < prices[sell]:\n",
    "                ans = max(ans, profit)\n",
    "            else:\n",
    "                buy = sell\n",
    "            \n",
    "            sell += 1\n",
    "        \n",
    "        return ans\n",
    "\n",
    "prob8_list1 = [7,1,5,3,6,4]\n",
    "solution8.max_profit(prob8_list1)"
   ]
  },
  {
   "cell_type": "markdown",
   "metadata": {},
   "source": [
    "Example Walkthrough:\n",
    "Given:\n",
    "\n",
    "prob8_list1 = [7, 1, 5, 3, 6, 4]\n",
    "Step-by-Step:\n",
    "```\n",
    "Day 0 (Buy at 7), Day 1 (Sell at 1):\n",
    "```\n",
    "Profit = 1 - 7 = -6 (Not profitable)\n",
    "\n",
    "Since price dropped, update buy to 1.\n",
    "\n",
    "```Day 1 (Buy at 1), Day 2 (Sell at 5):```\n",
    "\n",
    "Profit = 5 - 1 = 4 (Profit found)\n",
    "\n",
    "Update ans to 4.\n",
    "\n",
    "```Day 2 (Buy at 1), Day 3 (Sell at 3):```\n",
    "\n",
    "Profit = 3 - 1 = 2 (Less than current ans)\n",
    "\n",
    "No update needed.\n",
    "\n",
    "```Day 3 (Buy at 1), Day 4 (Sell at 6):```\n",
    "\n",
    "Profit = 6 - 1 = 5 (New maximum profit)\n",
    "\n",
    "Update ans to 5.\n",
    "\n",
    "```Day 4 (Buy at 1), Day 5 (Sell at 4):```\n",
    "\n",
    "Profit = 4 - 1 = 3 (Less than current ans)\n",
    "\n",
    "No update needed.\n",
    "\n",
    "🎯 Why 7 Was Never Considered Again?\n",
    "The algorithm moves the buy pointer whenever the price drops.\n",
    "Since 1 is lower than 7, it makes sense to consider 1 as the new buying price.\n",
    "\n",
    "The goal is to buy low and sell high. So, after finding 1, it's better to ignore 7 because you can get a better profit with 1."
   ]
  },
  {
   "cell_type": "markdown",
   "metadata": {},
   "source": [
    "# Problem 9 - Remove element (leetcode - 27)"
   ]
  },
  {
   "cell_type": "markdown",
   "metadata": {},
   "source": [
    "input : list1 = [3,2,2,3] ; val = 3\n",
    "output : 2 (number of elements in final list once all the elements equal to \"val\" are removed from the list).\n",
    "\n",
    "Note- Dont use extra space.\n"
   ]
  },
  {
   "cell_type": "code",
   "execution_count": 2,
   "metadata": {},
   "outputs": [
    {
     "data": {
      "text/plain": [
       "2"
      ]
     },
     "execution_count": 2,
     "metadata": {},
     "output_type": "execute_result"
    }
   ],
   "source": [
    "class solution10:\n",
    "    @staticmethod\n",
    "    def remove_element(a : list, val : int):\n",
    "        helper = 0\n",
    "\n",
    "        for i in range(len(a)):\n",
    "            if a[i] != val:\n",
    "                a[helper] = a[i]\n",
    "                helper += 1\n",
    "        \n",
    "        return helper\n",
    "    \n",
    "prob10_list1 = [3,2,2,3]\n",
    "prob10_val = 3\n",
    "solution10.remove_element(prob10_list1,prob10_val)"
   ]
  },
  {
   "cell_type": "markdown",
   "metadata": {},
   "source": [
    "# Problem 10 - Remove duplicates from sorted array 2 (leetcode - 80)"
   ]
  },
  {
   "cell_type": "markdown",
   "metadata": {},
   "source": [
    "To take a sorted-array as input, and output the number of elements in final array after removing duplicates of elements whose count is present more than 2 times.\n",
    "\n",
    "Ex :\n",
    "\n",
    "input_array = [1,1,1,2,2,3]\n",
    "\n",
    "output_array = [1,1,2,2,3] (Although this is not required in problem as output)\n",
    "\n",
    "output = 5"
   ]
  },
  {
   "cell_type": "code",
   "execution_count": null,
   "metadata": {},
   "outputs": [
    {
     "name": "stdout",
     "output_type": "stream",
     "text": [
      "Array after de-duplication, in case we want to see :  [1, 1, 2, 2, 3]\n"
     ]
    },
    {
     "data": {
      "text/plain": [
       "5"
      ]
     },
     "execution_count": 4,
     "metadata": {},
     "output_type": "execute_result"
    }
   ],
   "source": [
    "# TC : O(n)\n",
    "# SC : O(1)\n",
    "\n",
    "class solution10:\n",
    "    @staticmethod\n",
    "    def remove_duplicate_prob10(sorted_array : list[int]) -> int:\n",
    "        if len(sorted_array) <= 2:\n",
    "            return len(sorted_array)\n",
    "        \n",
    "        helper = 0\n",
    "        for element in sorted_array:\n",
    "            if helper == 0 or helper == 1 or sorted_array[helper-2] != element :\n",
    "                sorted_array[helper] = element\n",
    "                helper += 1\n",
    "        \n",
    "        print(\"Array after de-duplication, in case we want to see : \", sorted_array[:helper])\n",
    "        return helper\n",
    "    \n",
    "input_list_prob10 = [1,1,1,1,2,2,2,3]\n",
    "solution10.remove_duplicate_prob10(input_list_prob10)"
   ]
  },
  {
   "cell_type": "markdown",
   "metadata": {},
   "source": [
    "# Problem 11 - Apple python interview question:"
   ]
  },
  {
   "cell_type": "markdown",
   "metadata": {},
   "source": [
    "Given a list of numberic elements, write an optimised code to shift all the zeroes to end without using **ANY EXTRA SPACE**\n",
    "\n",
    "input = [1,2,0,4,-1,5,6,0,0,7,0]\n",
    "\n",
    "output = [1,2,4,-1,5,6,7,0,0,0,0]"
   ]
  },
  {
   "cell_type": "markdown",
   "metadata": {},
   "source": [
    "### Method 1 (OPTIMISED):\n",
    "\n",
    "1 Pass Only:\n",
    "\n",
    "Single Loop: It shifts non-zero elements to the front and places the zero in the current position in one go.\n",
    "\n",
    "No need for an extra condition to fill zeros separately.\n",
    "\n",
    "Less Overhead:\n",
    "\n",
    "Each swap operation is a simple constant-time action.\n",
    "\n",
    "No additional checks like if helper != i because the swap inherently manages the zeros."
   ]
  },
  {
   "cell_type": "code",
   "execution_count": null,
   "metadata": {},
   "outputs": [
    {
     "name": "stdout",
     "output_type": "stream",
     "text": [
      "[1, 2, 4, -1, 5, 6, 7, 0, 0, 0, 0]\n"
     ]
    }
   ],
   "source": [
    "input_list = [1, 2, 0, 4, -1, 5, 6, 0, 0, 7, 0]\n",
    "helper = 0\n",
    "\n",
    "for i in  range(len(input_list)):\n",
    "    if input_list[i] != 0:    # make this condintion \"\"== 0\", in case we want all zeroes in beginning in output list.\n",
    "        tmp = input_list[helper]\n",
    "        input_list[helper] = input_list[i]\n",
    "        input_list[i] = tmp\n",
    "        helper+=1\n",
    "\n",
    "print(input_list)"
   ]
  },
  {
   "cell_type": "markdown",
   "metadata": {},
   "source": [
    "### METHOD 2:\n",
    "\n",
    "2 Passes in Effect:\n",
    "\n",
    "First Pass: Shifts all non-zero elements to the front.\n",
    "\n",
    "Second Pass (Implicit): Fills zeros after the last non-zero element.\n",
    "(Even though it's done in the same loop, the zero-filling logic adds extra overhead.)\n",
    "\n",
    "Extra Operations:\n",
    "\n",
    "Every time you shift an element, there's an additional check to see if helper != i and then assign 0.\n",
    "\n",
    "This adds unnecessary operations when the zeros are already in place after shifting."
   ]
  },
  {
   "cell_type": "code",
   "execution_count": 10,
   "metadata": {},
   "outputs": [
    {
     "name": "stdout",
     "output_type": "stream",
     "text": [
      "[1, 2, 4, -1, 5, 6, 7, 0, 0, 0, 0]\n"
     ]
    }
   ],
   "source": [
    "input_list_prob11 = [1, 2, 0, 4, -1, 5, 6, 0, 0, 7, 0]\n",
    "helper = 0\n",
    "\n",
    "# Shift non-zero elements and fill zeros in one pass\n",
    "for i in range(len(input_list_prob11)):\n",
    "    if input_list_prob11[i] != 0:\n",
    "        input_list_prob11[helper] = input_list_prob11[i]\n",
    "        # Fill zeros immediately after shifting\n",
    "        if helper != i:\n",
    "            input_list_prob11[i] = 0\n",
    "        helper += 1         \n",
    "\n",
    "# Final output\n",
    "print(input_list_prob11)"
   ]
  },
  {
   "cell_type": "markdown",
   "metadata": {},
   "source": [
    "# Problem 12 - Apple interview question"
   ]
  },
  {
   "cell_type": "markdown",
   "metadata": {},
   "source": [
    "Given a string, return the modified string having the character and its consistent count in least possible complexity\n",
    "\n",
    "Input = \"abcabbbccaabd\"\n",
    "output = \"a1b1c1a1b3c2a2b1d1\""
   ]
  },
  {
   "cell_type": "code",
   "execution_count": null,
   "metadata": {},
   "outputs": [
    {
     "name": "stdout",
     "output_type": "stream",
     "text": [
      "['a1', 'b1', 'c1', 'a1', 'b3', 'c2', 'a2', 'b1', 'd1']\n",
      "a1b1c1a1b3c2a2b1d1\n"
     ]
    }
   ],
   "source": [
    "input_prob_12 = \"abcabbbccaabd\"\n",
    "i = 0\n",
    "n = len(input_prob_12)\n",
    "ans = []\n",
    "while i < n:\n",
    "    j = i + 1\n",
    "    count_i = 1\n",
    "    \n",
    "    while j < n and input_prob_12[i] == input_prob_12[j]:\n",
    "        j += 1\n",
    "        count_i += 1\n",
    "\n",
    "    ans.append(input_prob_12[i] + str(count_i))\n",
    "\n",
    "    i = j  # very imp step\n",
    "\n",
    "print(ans)\n",
    "print(''.join(ans))\n",
    "\n",
    "\n",
    "# With i = j:\n",
    "\n",
    "# After counting 'a', j points to the next new character ('b').\n",
    "# By setting i = j, we're jumping directly to the next new group without any unnecessary iterations.\n"
   ]
  },
  {
   "cell_type": "markdown",
   "metadata": {},
   "source": [
    "# Problem 13 - Leetcode 75"
   ]
  },
  {
   "cell_type": "markdown",
   "metadata": {},
   "source": [
    "- Given a list of colors (integer values in list), 0,1,2 representing - red, blue and white respectively.\n",
    "- Sort this list in place such that same color are adjacent with the colors in prder red,blue and white.\n",
    "\n",
    "Must solve this without using library's sort function"
   ]
  },
  {
   "cell_type": "code",
   "execution_count": null,
   "metadata": {},
   "outputs": [],
   "source": []
  }
 ],
 "metadata": {
  "kernelspec": {
   "display_name": "Python 3",
   "language": "python",
   "name": "python3"
  },
  "language_info": {
   "codemirror_mode": {
    "name": "ipython",
    "version": 3
   },
   "file_extension": ".py",
   "mimetype": "text/x-python",
   "name": "python",
   "nbconvert_exporter": "python",
   "pygments_lexer": "ipython3",
   "version": "3.12.4"
  }
 },
 "nbformat": 4,
 "nbformat_minor": 2
}

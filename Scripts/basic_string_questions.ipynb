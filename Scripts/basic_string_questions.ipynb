{
 "cells": [
  {
   "cell_type": "markdown",
   "metadata": {},
   "source": [
    "# Properties of Strings in Python\n",
    "\n",
    "## 1. **Immutable**\n",
    "   - Strings are **immutable**, meaning once a string is created, it cannot be changed. Any operation that modifies a string creates a new string.\n",
    "   - Example:\n",
    "     ```python\n",
    "     s = \"Hello\"\n",
    "     s[0] = 'h'  # This will raise a TypeError\n",
    "     ```\n",
    "\n",
    "---\n",
    "\n",
    "## 2. **Ordered**\n",
    "   - Strings are **ordered**, meaning the characters in a string are stored in a specific sequence, and you can access them using indexing.\n",
    "   - Example:\n",
    "     ```python\n",
    "     s = \"Hello\"\n",
    "     print(s[1])  # Output: 'e'\n",
    "     ```\n",
    "\n",
    "---\n",
    "\n",
    "## 3. **Indexed**\n",
    "   - Strings support **indexing**, meaning you can access individual characters using their position (index).\n",
    "   - Example:\n",
    "     ```python\n",
    "     s = \"Hello\"\n",
    "     print(s[0])  # Output: 'H'\n",
    "     ```\n",
    "\n",
    "---\n",
    "\n",
    "## 4. **Slicing**\n",
    "   - Strings support **slicing**, meaning you can extract a substring using a range of indices.\n",
    "   - Example:\n",
    "     ```python\n",
    "     s = \"Hello, World!\"\n",
    "     print(s[0:5])  # Output: 'Hello'\n",
    "     ```\n",
    "\n",
    "---\n",
    "\n",
    "## 5. **Iterable**\n",
    "   - Strings are **iterable**, meaning you can loop through each character in a string using a `for` loop.\n",
    "   - Example:\n",
    "     ```python\n",
    "     s = \"Hello\"\n",
    "     for char in s:\n",
    "         print(char)\n",
    "     ```\n",
    "\n",
    "---\n",
    "\n",
    "## 6. **Heterogeneous**\n",
    "   - Strings can contain **any characters**, including letters, numbers, symbols, and whitespace.\n",
    "   - Example:\n",
    "     ```python\n",
    "     s = \"Hello123!@#\"\n",
    "     ```\n",
    "\n",
    "---\n",
    "\n",
    "## 7. **Concatenation**\n",
    "   - Strings can be **concatenated** (combined) using the `+` operator.\n",
    "   - Example:\n",
    "     ```python\n",
    "     s1 = \"Hello\"\n",
    "     s2 = \"World\"\n",
    "     print(s1 + \" \" + s2)  # Output: 'Hello World'\n",
    "     ```\n",
    "\n",
    "---\n",
    "\n",
    "## 8. **Repetition**\n",
    "   - Strings can be repeated using the `*` operator.\n",
    "   - Example:\n",
    "     ```python\n",
    "     s = \"Hello\"\n",
    "     print(s * 3)  # Output: 'HelloHelloHello'\n",
    "     ```\n",
    "\n",
    "---\n",
    "\n",
    "## 9. **Case Conversion**\n",
    "   - Strings can be converted to **uppercase** or **lowercase** using the `upper()` and `lower()` methods.\n",
    "   - Example:\n",
    "     ```python\n",
    "     s = \"Hello\"\n",
    "     print(s.upper())  # Output: 'HELLO'\n",
    "     print(s.lower())  # Output: 'hello'\n",
    "     ```\n",
    "\n",
    "---\n",
    "\n",
    "## 10. **Whitespace Removal**\n",
    "    - Leading and trailing whitespace can be removed using the `strip()` method.\n",
    "    - Example:\n",
    "      ```python\n",
    "      s = \"   Hello   \"\n",
    "      print(s.strip())  # Output: 'Hello'\n",
    "      ```\n",
    "\n",
    "---\n",
    "\n",
    "## 11. **Substring Search**\n",
    "    - You can check if a substring exists in a string using the `in` keyword.\n",
    "    - Example:\n",
    "      ```python\n",
    "      s = \"Hello, World!\"\n",
    "      print(\"World\" in s)  # Output: True\n",
    "      ```\n",
    "\n",
    "---\n",
    "\n",
    "## 12. **String Formatting**\n",
    "    - Strings support **formatting** using `f-strings`, `format()`, or the `%` operator.\n",
    "    - Example:\n",
    "      ```python\n",
    "      name = \"Alice\"\n",
    "      age = 25\n",
    "      print(f\"{name} is {age} years old.\")  # Output: 'Alice is 25 years old.'\n",
    "      ```\n",
    "\n",
    "---\n",
    "\n",
    "## 13. **String Methods**\n",
    "    - Strings come with a wide variety of built-in methods, such as `split()`, `replace()`, `find()`, `count()`, and more.\n",
    "    - Example:\n",
    "      ```python\n",
    "      s = \"Hello, World!\"\n",
    "      print(s.split(\",\"))  # Output: ['Hello', ' World!']\n",
    "      ```\n",
    "\n",
    "---\n",
    "\n",
    "## 14. **Escape Sequences**\n",
    "    - Strings can contain **escape sequences** like `\\n` (newline), `\\t` (tab), and `\\\\` (backslash).\n",
    "    - Example:\n",
    "      ```python\n",
    "      s = \"Hello\\nWorld!\"\n",
    "      print(s)\n",
    "      # Output:\n",
    "      # Hello\n",
    "      # World!\n",
    "      ```\n",
    "\n",
    "---\n",
    "\n",
    "## 15. **Multiline Strings**\n",
    "    - Strings can span multiple lines using triple quotes (`'''` or `\\\"\\\"\\\"`).\n",
    "    - Example:\n",
    "      ```python\n",
    "      s = '''Hello,\n",
    "      World!'''\n",
    "      print(s)\n",
    "      # Output:\n",
    "      # Hello,\n",
    "      # World!\n",
    "      ```\n",
    "\n",
    "---\n",
    "\n",
    "## 16. **String Length**\n",
    "    - The length of a string can be found using the `len()` function.\n",
    "    - Example:\n",
    "      ```python\n",
    "      s = \"Hello\"\n",
    "      print(len(s))  # Output: 5\n",
    "      ```\n",
    "\n",
    "---\n",
    "\n",
    "## 17. **String Membership**\n",
    "    - You can check if a character or substring exists in a string using the `in` keyword.\n",
    "    - Example:\n",
    "      ```python\n",
    "      s = \"Hello\"\n",
    "      print('e' in s)  # Output: True\n",
    "      ```\n",
    "\n",
    "---\n",
    "\n",
    "## 18. **String Comparison**\n",
    "    - Strings can be compared using comparison operators (`==`, `!=`, `<`, `>`, etc.).\n",
    "    - Example:\n",
    "      ```python\n",
    "      s1 = \"Hello\"\n",
    "      s2 = \"World\"\n",
    "      print(s1 == s2)  # Output: False\n",
    "      ```\n",
    "\n",
    "---\n",
    "\n",
    "## 19. **String Immutability**\n",
    "    - Since strings are immutable, methods like `replace()` or `upper()` return a new string instead of modifying the original.\n",
    "    - Example:\n",
    "      ```python\n",
    "      s = \"Hello\"\n",
    "      new_s = s.replace(\"H\", \"h\")\n",
    "      print(new_s)  # Output: 'hello'\n",
    "      ```\n",
    "\n",
    "---\n",
    "\n",
    "## 20. **Unicode Support**\n",
    "    - Strings in Python 3 are **Unicode** by default, meaning they can store characters from any language.\n",
    "    - Example:\n",
    "      ```python\n",
    "      s = \"こんにちは\"  # Japanese for 'Hello'\n",
    "      print(s)\n",
    "      ```\n",
    "\n",
    "---\n",
    "\n",
    "### Summary of String Properties:\n",
    "- **Immutable**\n",
    "- **Ordered**\n",
    "- **Indexed**\n",
    "- **Slicing**\n",
    "- **Iterable**\n",
    "- **Heterogeneous**\n",
    "- **Concatenation**\n",
    "- **Repetition**\n",
    "- **Case Conversion**\n",
    "- **Whitespace Removal**\n",
    "- **Substring Search**\n",
    "- **String Formatting**\n",
    "- **String Methods**\n",
    "- **Escape Sequences**\n",
    "- **Multiline Strings**\n",
    "- **String Length**\n",
    "- **String Membership**\n",
    "- **String Comparison**\n",
    "- **String Immutability**\n",
    "- **Unicode Support**"
   ]
  },
  {
   "cell_type": "markdown",
   "metadata": {},
   "source": [
    "# Python Programs for String Operations"
   ]
  },
  {
   "cell_type": "markdown",
   "metadata": {},
   "source": [
    "### 1. Count the Number of Characters in a String"
   ]
  },
  {
   "cell_type": "code",
   "execution_count": null,
   "metadata": {},
   "outputs": [],
   "source": [
    "def count_characters(s):\n",
    "    return len(s)\n",
    "\n",
    "# Example\n",
    "s = \"Hello, World!\"\n",
    "print(\"Number of characters:\", count_characters(s))"
   ]
  },
  {
   "cell_type": "markdown",
   "metadata": {},
   "source": [
    "### 2. Convert a String to Uppercase"
   ]
  },
  {
   "cell_type": "code",
   "execution_count": null,
   "metadata": {},
   "outputs": [],
   "source": [
    "def to_uppercase(s):\n",
    "    return s.upper()\n",
    "\n",
    "# Example\n",
    "s = \"Hello, World!\"\n",
    "print(\"Uppercase string:\", to_uppercase(s))"
   ]
  },
  {
   "cell_type": "markdown",
   "metadata": {},
   "source": [
    "### 3. Find the Position of a Substring in a String"
   ]
  },
  {
   "cell_type": "code",
   "execution_count": null,
   "metadata": {},
   "outputs": [],
   "source": [
    "def find_substring(s, sub):\n",
    "    return s.find(sub)\n",
    "\n",
    "# Example\n",
    "s = \"Hello, World!\"\n",
    "sub = \"World\"\n",
    "print(\"Position of substring:\", find_substring(s, sub))"
   ]
  },
  {
   "cell_type": "markdown",
   "metadata": {},
   "source": [
    "### 4. Check if a String Starts with a Specified Substring"
   ]
  },
  {
   "cell_type": "code",
   "execution_count": null,
   "metadata": {},
   "outputs": [],
   "source": [
    "def starts_with(s, sub):\n",
    "    return s.startswith(sub)\n",
    "\n",
    "# Example\n",
    "s = \"Hello, World!\"\n",
    "sub = \"Hello\"\n",
    "print(\"Does the string start with the substring?\", starts_with(s, sub))"
   ]
  },
  {
   "cell_type": "markdown",
   "metadata": {},
   "source": [
    "### 5. Replace All Occurrences of a Substring in a String with Another Substring"
   ]
  },
  {
   "cell_type": "code",
   "execution_count": null,
   "metadata": {},
   "outputs": [],
   "source": [
    "def replace_substring(s, old, new):\n",
    "    return s.replace(old, new)\n",
    "\n",
    "# Example\n",
    "s = \"Hello, World!\"\n",
    "old = \"World\"\n",
    "new = \"Python\"\n",
    "print(\"Replaced string:\", replace_substring(s, old, new))"
   ]
  },
  {
   "cell_type": "markdown",
   "metadata": {},
   "source": [
    "### 6. Split a String into a List of Words"
   ]
  },
  {
   "cell_type": "code",
   "execution_count": null,
   "metadata": {},
   "outputs": [],
   "source": [
    "def split_string(s):\n",
    "    return s.split()\n",
    "\n",
    "# Example\n",
    "s = \"Hello, World!\"\n",
    "print(\"List of words:\", split_string(s))"
   ]
  },
  {
   "cell_type": "markdown",
   "metadata": {},
   "source": [
    "### 7. Concatenate Two Strings"
   ]
  },
  {
   "cell_type": "code",
   "execution_count": null,
   "metadata": {},
   "outputs": [],
   "source": [
    "def concatenate_strings(s1, s2):\n",
    "    return s1 + s2\n",
    "\n",
    "# Example\n",
    "s1 = \"Hello, \"\n",
    "s2 = \"World!\"\n",
    "print(\"Concatenated string:\", concatenate_strings(s1, s2))"
   ]
  },
  {
   "cell_type": "markdown",
   "metadata": {},
   "source": [
    "### 8. Check if a String Contains Only Alphabetic Characters"
   ]
  },
  {
   "cell_type": "code",
   "execution_count": null,
   "metadata": {},
   "outputs": [],
   "source": [
    "def is_alphabetic(s):\n",
    "    return s.isalpha()\n",
    "\n",
    "# Example\n",
    "s = \"HelloWorld\"\n",
    "print(\"Is the string alphabetic?\", is_alphabetic(s))"
   ]
  },
  {
   "cell_type": "markdown",
   "metadata": {},
   "source": [
    "### 9. Find the Length of a String"
   ]
  },
  {
   "cell_type": "code",
   "execution_count": null,
   "metadata": {},
   "outputs": [],
   "source": [
    "def string_length(s):\n",
    "    return len(s)\n",
    "\n",
    "# Example\n",
    "s = \"Hello, World!\"\n",
    "print(\"Length of string:\", string_length(s))"
   ]
  },
  {
   "cell_type": "markdown",
   "metadata": {},
   "source": [
    "### 10. Convert a String to Lowercase"
   ]
  },
  {
   "cell_type": "code",
   "execution_count": null,
   "metadata": {},
   "outputs": [],
   "source": [
    "def to_lowercase(s):\n",
    "    return s.lower()\n",
    "\n",
    "# Example\n",
    "s = \"Hello, World!\"\n",
    "print(\"Lowercase string:\", to_lowercase(s))"
   ]
  },
  {
   "cell_type": "markdown",
   "metadata": {},
   "source": [
    "### 11. Remove Leading and Trailing Whitespace from a String"
   ]
  },
  {
   "cell_type": "code",
   "execution_count": null,
   "metadata": {},
   "outputs": [],
   "source": [
    "def strip_whitespace(s):\n",
    "    return s.strip()\n",
    "\n",
    "# Example\n",
    "s = \"   Hello, World!   \"\n",
    "print(\"Stripped string:\", strip_whitespace(s))"
   ]
  },
  {
   "cell_type": "markdown",
   "metadata": {},
   "source": [
    "### 12. Count the Number of Vowels in a String"
   ]
  },
  {
   "cell_type": "code",
   "execution_count": null,
   "metadata": {},
   "outputs": [],
   "source": [
    "def count_vowels(s):\n",
    "    vowels = \"aeiouAEIOU\"\n",
    "    return sum(1 for char in s if char in vowels)\n",
    "\n",
    "# Example\n",
    "s = \"Hello, World!\"\n",
    "print(\"Number of vowels:\", count_vowels(s))"
   ]
  },
  {
   "cell_type": "markdown",
   "metadata": {},
   "source": [
    "### 13. Reverse a String"
   ]
  },
  {
   "cell_type": "code",
   "execution_count": null,
   "metadata": {},
   "outputs": [],
   "source": [
    "def reverse_string(s):\n",
    "    return s[::-1]\n",
    "\n",
    "# Example\n",
    "s = \"Hello, World!\"\n",
    "print(\"Reversed string:\", reverse_string(s))"
   ]
  },
  {
   "cell_type": "markdown",
   "metadata": {},
   "source": [
    "### 14. Check if a String is a Palindrome"
   ]
  },
  {
   "cell_type": "code",
   "execution_count": null,
   "metadata": {},
   "outputs": [],
   "source": [
    "def is_palindrome(s):\n",
    "    return s == s[::-1]\n",
    "\n",
    "# Example\n",
    "s = \"madam\"\n",
    "print(\"Is the string a palindrome?\", is_palindrome(s))"
   ]
  },
  {
   "cell_type": "markdown",
   "metadata": {},
   "source": [
    "### 15. Find the Last Occurrence of a Substring in a String"
   ]
  },
  {
   "cell_type": "code",
   "execution_count": null,
   "metadata": {},
   "outputs": [],
   "source": [
    "def last_occurrence(s, sub):\n",
    "    return s.rfind(sub)\n",
    "\n",
    "# Example\n",
    "s = \"Hello, World! World!\"\n",
    "sub = \"World\"\n",
    "print(\"Last occurrence of substring:\", last_occurrence(s, sub))"
   ]
  },
  {
   "cell_type": "markdown",
   "metadata": {},
   "source": [
    "### 16. Join a List of Strings into a Single String with Spaces"
   ]
  },
  {
   "cell_type": "code",
   "execution_count": null,
   "metadata": {},
   "outputs": [],
   "source": [
    "def join_strings(lst):\n",
    "    return ' '.join(lst)\n",
    "\n",
    "# Example\n",
    "lst = [\"Hello,\", \"World!\"]\n",
    "print(\"Joined string:\", join_strings(lst))"
   ]
  },
  {
   "cell_type": "markdown",
   "metadata": {},
   "source": [
    "### 17. Check if a String Ends with a Specified Substring"
   ]
  },
  {
   "cell_type": "code",
   "execution_count": null,
   "metadata": {},
   "outputs": [],
   "source": [
    "def ends_with(s, sub):\n",
    "    return s.endswith(sub)\n",
    "\n",
    "# Example\n",
    "s = \"Hello, World!\"\n",
    "sub = \"World!\"\n",
    "print(\"Does the string end with the substring?\", ends_with(s, sub))"
   ]
  },
  {
   "cell_type": "markdown",
   "metadata": {},
   "source": [
    "### 18. Find the Number of Words in a String"
   ]
  },
  {
   "cell_type": "code",
   "execution_count": null,
   "metadata": {},
   "outputs": [],
   "source": [
    "def count_words(s):\n",
    "    return len(s.split())\n",
    "\n",
    "# Example\n",
    "s = \"Hello, World!\"\n",
    "print(\"Number of words:\", count_words(s))"
   ]
  },
  {
   "cell_type": "markdown",
   "metadata": {},
   "source": [
    "### 19. Capitalize the First Letter of Each Word in a String"
   ]
  },
  {
   "cell_type": "code",
   "execution_count": null,
   "metadata": {},
   "outputs": [],
   "source": [
    "def capitalize_words(s):\n",
    "    return s.title()\n",
    "\n",
    "# Example\n",
    "s = \"hello, world!\"\n",
    "print(\"Capitalized string:\", capitalize_words(s))"
   ]
  },
  {
   "cell_type": "markdown",
   "metadata": {},
   "source": [
    "### 20. Remove All Digits from a String"
   ]
  },
  {
   "cell_type": "code",
   "execution_count": null,
   "metadata": {},
   "outputs": [],
   "source": [
    "def remove_digits(s):\n",
    "    return ''.join(char for char in s if not char.isdigit())\n",
    "\n",
    "# Example\n",
    "s = \"Hello123World456!\"\n",
    "print(\"String without digits:\", remove_digits(s))"
   ]
  }
 ],
 "metadata": {
  "kernelspec": {
   "display_name": "Python 3",
   "language": "python",
   "name": "python3"
  },
  "language_info": {
   "codemirror_mode": {
    "name": "ipython",
    "version": 3
   },
   "file_extension": ".py",
   "mimetype": "text/x-python",
   "name": "python",
   "nbconvert_exporter": "python",
   "pygments_lexer": "ipython3",
   "version": "3.8.5"
  }
 },
 "nbformat": 4,
 "nbformat_minor": 4
}

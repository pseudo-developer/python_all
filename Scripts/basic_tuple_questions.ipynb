{
 "cells": [
  {
   "cell_type": "markdown",
   "metadata": {},
   "source": [
    "### Properties of Tuples\n",
    "\n",
    "1. **Immutable**:\n",
    "   - Tuples are **immutable**, meaning once a tuple is created, its elements cannot be changed, added, or removed.\n",
    "   - Example:\n",
    "     ```python\n",
    "     tup = (1, 2, 3)\n",
    "     # tup[0] = 10  # This will raise a TypeError because tuples are immutable.\n",
    "     ```\n",
    "\n",
    "2. **Ordered**:\n",
    "   - Tuples are **ordered**, meaning the order in which elements are inserted into the tuple is maintained.\n",
    "   - This allows indexing, slicing, and iterating through the tuple in the order the elements appear.\n",
    "   - Example:\n",
    "     ```python\n",
    "     tup = (1, 2, 3)\n",
    "     print(tup[1])  # Output: 2\n",
    "     ```\n",
    "\n",
    "3. **Heterogeneous**:\n",
    "   - Tuples can store elements of different data types (heterogeneous elements), such as integers, strings, floats, lists, etc.\n",
    "   - Example:\n",
    "     ```python\n",
    "     tup = (1, \"Hello\", 3.14, [4, 5])\n",
    "     ```\n",
    "\n",
    "4. **Allow Duplicate Elements**:\n",
    "   - Tuples can have duplicate elements. There is no restriction on having the same value multiple times in a tuple.\n",
    "   - Example:\n",
    "     ```python\n",
    "     tup = (1, 1, 2, 2, 3)\n",
    "     ```\n",
    "\n",
    "5. **Indexed and Sliced**:\n",
    "   - Tuples support **indexing** and **slicing**, similar to lists, so you can access elements at specific positions or create sub-tuples.\n",
    "   - Example:\n",
    "     ```python\n",
    "     tup = (10, 20, 30, 40)\n",
    "     print(tup[2])  # Output: 30\n",
    "     print(tup[1:3])  # Output: (20, 30)\n",
    "     ```\n",
    "\n",
    "6. **Hashable**:\n",
    "   - Since tuples are immutable, they are **hashable**, which means they can be used as keys in dictionaries and can be added to sets.\n",
    "   - Example:\n",
    "     ```python\n",
    "     tup = (1, 2, 3)\n",
    "     my_dict = {tup: \"value\"}  # This is valid because tuples are hashable.\n",
    "     ```\n",
    "\n",
    "7. **Support for Nested Tuples**:\n",
    "   - Tuples can contain other tuples, which means they support **nesting**. You can have a tuple inside a tuple.\n",
    "   - Example:\n",
    "     ```python\n",
    "     tup = ((1, 2), (3, 4), (5, 6))\n",
    "     ```\n",
    "\n",
    "8. **Efficient in Memory**:\n",
    "   - Since tuples are immutable, they tend to have **less memory overhead** than lists. They are generally faster when it comes to accessing elements because of their fixed size.\n",
    "   \n",
    "9. **Can Be Empty**:\n",
    "   - Tuples can also be empty, and an empty tuple is represented by `()`.\n",
    "   - Example:\n",
    "     ```python\n",
    "     empty_tup = ()\n",
    "     ```\n",
    "\n",
    "10. **Tuple Packing and Unpacking**:\n",
    "    - **Packing** is the process of creating a tuple by grouping values together.\n",
    "    - **Unpacking** is the reverse process, where you extract the values from the tuple into individual variables.\n",
    "    - Example:\n",
    "      ```python\n",
    "      # Packing\n",
    "      tup = (1, 2, 3)\n",
    "\n",
    "      # Unpacking\n",
    "      a, b, c = tup\n",
    "      print(a, b, c)  # Output: 1 2 3\n",
    "      ```\n",
    "\n",
    "11. **Support for Concatenation and Repetition**:\n",
    "    - You can concatenate two or more tuples using the `+` operator, or repeat a tuple multiple times using the `*` operator.\n",
    "    - Example:\n",
    "      ```python\n",
    "      tup1 = (1, 2)\n",
    "      tup2 = (3, 4)\n",
    "      print(tup1 + tup2)  # Output: (1, 2, 3, 4)\n",
    "      print(tup1 * 3)  # Output: (1, 2, 1, 2, 1, 2)\n",
    "      ```\n",
    "\n",
    "---\n",
    "\n",
    "### Summary of Tuple Properties:\n",
    "- **Immutable**\n",
    "- **Ordered**\n",
    "- **Heterogeneous** (can store different data types)\n",
    "- **Can have duplicate elements**\n",
    "- **Support for indexing and slicing**\n",
    "- **Hashable** (can be used as dictionary keys)\n",
    "- **Can be nested** (tuples inside tuples)\n",
    "- **Efficient in memory**\n",
    "- **Can be empty**\n",
    "- **Support packing and unpacking**\n",
    "- **Support concatenation and repetition**\n"
   ]
  },
  {
   "cell_type": "markdown",
   "metadata": {},
   "source": [
    "# Python Programs for Tuple Operations"
   ]
  },
  {
   "cell_type": "markdown",
   "metadata": {},
   "source": [
    "### 1. Convert a Tuple to a String"
   ]
  },
  {
   "cell_type": "code",
   "execution_count": 3,
   "metadata": {},
   "outputs": [
    {
     "name": "stdout",
     "output_type": "stream",
     "text": [
      "Tuple to string: Hello\n"
     ]
    }
   ],
   "source": [
    "def tuple_to_string(tup):\n",
    "    return ''.join(map(str, tup))\n",
    "\n",
    "# Example\n",
    "tup = ('H', 'e', 'l', 'l', 'o')\n",
    "print(\"Tuple to string:\", tuple_to_string(tup))"
   ]
  },
  {
   "cell_type": "markdown",
   "metadata": {},
   "source": [
    "### 2. Find the Repeated Items of a Tuple"
   ]
  },
  {
   "cell_type": "code",
   "execution_count": 13,
   "metadata": {},
   "outputs": [
    {
     "name": "stdout",
     "output_type": "stream",
     "text": [
      "Repeated items: [2, 4]\n"
     ]
    }
   ],
   "source": [
    "def repeated_items(tup):\n",
    "    return [item for item in set(tup) if tup.count(item) > 1]\n",
    "\n",
    "# Example\n",
    "tup = (1, 2, 3, 2, 4, 5, 4)\n",
    "print(\"Repeated items:\", repeated_items(tup))"
   ]
  },
  {
   "cell_type": "markdown",
   "metadata": {},
   "source": [
    "### 3. Check if an Element Exists in a Tuple"
   ]
  },
  {
   "cell_type": "code",
   "execution_count": 15,
   "metadata": {},
   "outputs": [
    {
     "name": "stdout",
     "output_type": "stream",
     "text": [
      "Does 3 exist in the tuple? :-  True\n"
     ]
    }
   ],
   "source": [
    "def element_exists(tup, element):\n",
    "    return element in tup\n",
    "\n",
    "# Example\n",
    "tup = (1, 2, 3, 4, 5)\n",
    "element = 3\n",
    "print(f\"Does {element} exist in the tuple? :- \", element_exists(tup, element))"
   ]
  },
  {
   "cell_type": "markdown",
   "metadata": {},
   "source": [
    "### 4. Convert a List of Tuples into a Dictionary"
   ]
  },
  {
   "cell_type": "code",
   "execution_count": 22,
   "metadata": {},
   "outputs": [
    {
     "name": "stdout",
     "output_type": "stream",
     "text": [
      "Dictionary: {'a': 1, 'b': 2, 'c': 3}\n"
     ]
    }
   ],
   "source": [
    "def list_of_tuples_to_dict(lst):\n",
    "    return dict(lst)\n",
    "\n",
    "# Example\n",
    "lst = [('a', 1), ('b', 2), ('c', 3)]\n",
    "print(\"Dictionary:\", list_of_tuples_to_dict(lst))"
   ]
  },
  {
   "cell_type": "markdown",
   "metadata": {},
   "source": [
    "### 5. Sort a Tuple by Its Float Element"
   ]
  },
  {
   "cell_type": "code",
   "execution_count": 23,
   "metadata": {},
   "outputs": [
    {
     "name": "stdout",
     "output_type": "stream",
     "text": [
      "Sorted tuple: ('1.1', '2.2', '3.3')\n"
     ]
    }
   ],
   "source": [
    "def sort_tuple_by_float(tup):\n",
    "    return tuple(sorted(tup, key=lambda x: float(x)))\n",
    "\n",
    "# Example\n",
    "tup = ('2.2', '1.1', '3.3')\n",
    "print(\"Sorted tuple:\", sort_tuple_by_float(tup))"
   ]
  },
  {
   "cell_type": "markdown",
   "metadata": {},
   "source": [
    "### 6. Count the Elements in a Tuple"
   ]
  },
  {
   "cell_type": "code",
   "execution_count": 24,
   "metadata": {},
   "outputs": [
    {
     "name": "stdout",
     "output_type": "stream",
     "text": [
      "Number of elements: 5\n"
     ]
    }
   ],
   "source": [
    "def count_elements(tup):\n",
    "    return len(tup)\n",
    "\n",
    "# Example\n",
    "tup = (1, 2, 3, 4, 5)\n",
    "print(\"Number of elements:\", count_elements(tup))"
   ]
  },
  {
   "cell_type": "markdown",
   "metadata": {},
   "source": [
    "### 7. Concatenate Two Tuples"
   ]
  },
  {
   "cell_type": "code",
   "execution_count": 25,
   "metadata": {},
   "outputs": [
    {
     "name": "stdout",
     "output_type": "stream",
     "text": [
      "Concatenated tuple: (1, 2, 3, 4, 5, 6)\n"
     ]
    }
   ],
   "source": [
    "def concatenate_tuples(tup1, tup2):\n",
    "    return tup1 + tup2\n",
    "\n",
    "# Example\n",
    "tup1 = (1, 2, 3)\n",
    "tup2 = (4, 5, 6)\n",
    "print(\"Concatenated tuple:\", concatenate_tuples(tup1, tup2))"
   ]
  },
  {
   "cell_type": "markdown",
   "metadata": {},
   "source": [
    "### 8. Find the Index of an Element in a Tuple"
   ]
  },
  {
   "cell_type": "code",
   "execution_count": 31,
   "metadata": {},
   "outputs": [
    {
     "name": "stdout",
     "output_type": "stream",
     "text": [
      "Index of 30: 2\n"
     ]
    }
   ],
   "source": [
    "def find_index(tup, element):\n",
    "    return tup.index(element)     # remember tup.count(element) ?\n",
    "\n",
    "# Example\n",
    "tup = (10, 20, 30, 40, 50)\n",
    "element = 30\n",
    "print(f\"Index of {element}:\", find_index(tup, element))"
   ]
  },
  {
   "cell_type": "markdown",
   "metadata": {},
   "source": [
    "### 9. Remove an Element from a Tuple"
   ]
  },
  {
   "cell_type": "code",
   "execution_count": 32,
   "metadata": {},
   "outputs": [
    {
     "name": "stdout",
     "output_type": "stream",
     "text": [
      "Tuple after removal: (1, 2, 4, 5)\n"
     ]
    }
   ],
   "source": [
    "def remove_element(tup, element):\n",
    "    return tuple(item for item in tup if item != element)\n",
    "\n",
    "# Example\n",
    "tup = (1, 2, 3, 4, 5)\n",
    "element = 3\n",
    "print(\"Tuple after removal:\", remove_element(tup, element))"
   ]
  },
  {
   "cell_type": "markdown",
   "metadata": {},
   "source": [
    "### 10. Convert a Tuple to a Dictionary"
   ]
  },
  {
   "cell_type": "code",
   "execution_count": 39,
   "metadata": {},
   "outputs": [
    {
     "name": "stdout",
     "output_type": "stream",
     "text": [
      "Tuple to dictionary: {0: 'a', 1: 'b', 2: 'c', 3: 'd'}\n"
     ]
    }
   ],
   "source": [
    "def tuple_to_dict(tup):\n",
    "    return {i: tup[i] for i in range(len(tup))}\n",
    "\n",
    "# Example\n",
    "tup = ('a', 'b', 'c', 'd')\n",
    "print(\"Tuple to dictionary:\", tuple_to_dict(tup))"
   ]
  },
  {
   "cell_type": "code",
   "execution_count": null,
   "metadata": {},
   "outputs": [],
   "source": []
  }
 ],
 "metadata": {
  "kernelspec": {
   "display_name": "Python 3",
   "language": "python",
   "name": "python3"
  },
  "language_info": {
   "codemirror_mode": {
    "name": "ipython",
    "version": 3
   },
   "file_extension": ".py",
   "mimetype": "text/x-python",
   "name": "python",
   "nbconvert_exporter": "python",
   "pygments_lexer": "ipython3",
   "version": "3.13.2"
  }
 },
 "nbformat": 4,
 "nbformat_minor": 4
}

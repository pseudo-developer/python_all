{
 "cells": [
  {
   "cell_type": "markdown",
   "metadata": {},
   "source": [
    "### Properties of Lists\n",
    "\n",
    "1. **Mutable**:\n",
    "   - Lists are **mutable**, meaning you can change, add, or remove elements after the list is created.\n",
    "   - Example:\n",
    "     ```python\n",
    "     lst = [1, 2, 3]\n",
    "     lst[0] = 10  # This will change the first element to 10\n",
    "     print(lst)  # Output: [10, 2, 3]\n",
    "     ```\n",
    "\n",
    "2. **Ordered**:\n",
    "   - Lists are **ordered**, meaning the elements are stored in the order they were inserted, and this order is maintained.\n",
    "   - You can access elements by their index or iterate through them.\n",
    "   - Example:\n",
    "     ```python\n",
    "     lst = [1, 2, 3]\n",
    "     print(lst[1])  # Output: 2\n",
    "     ```\n",
    "\n",
    "3. **Heterogeneous**:\n",
    "   - Lists can store elements of different data types (heterogeneous elements), such as integers, strings, floats, and even other lists or objects.\n",
    "   - Example:\n",
    "     ```python\n",
    "     lst = [1, \"Hello\", 3.14, [4, 5]]\n",
    "     ```\n",
    "\n",
    "4. **Allow Duplicate Elements**:\n",
    "   - Lists can have duplicate elements. There is no restriction on having the same value multiple times in a list.\n",
    "   - Example:\n",
    "     ```python\n",
    "     lst = [1, 1, 2, 2, 3]\n",
    "     ```\n",
    "\n",
    "5. **Indexed and Sliced**:\n",
    "   - Lists support **indexing** and **slicing**, meaning you can access specific elements or create sublists.\n",
    "   - Example:\n",
    "     ```python\n",
    "     lst = [10, 20, 30, 40]\n",
    "     print(lst[2])  # Output: 30\n",
    "     print(lst[1:3])  # Output: [20, 30]\n",
    "     ```\n",
    "\n",
    "6. **Dynamic Size**:\n",
    "   - Lists are **dynamic**, meaning their size can grow or shrink as elements are added or removed.\n",
    "   - Example:\n",
    "     ```python\n",
    "     lst = [1, 2, 3]\n",
    "     lst.append(4)  # Adds 4 to the end of the list\n",
    "     print(lst)  # Output: [1, 2, 3, 4]\n",
    "     ```\n",
    "\n",
    "7. **Can Contain Nested Lists**:\n",
    "   - Lists can contain other lists, meaning they support **nesting**. You can have lists within lists.\n",
    "   - Example:\n",
    "     ```python\n",
    "     lst = [[1, 2], [3, 4], [5, 6]]\n",
    "     ```\n",
    "\n",
    "8. **Efficient for Insertion and Deletion**:\n",
    "   - Lists are efficient for **insertion** and **deletion** of elements, especially when using methods like `append()`, `insert()`, and `remove()`.\n",
    "   - Example:\n",
    "     ```python\n",
    "     lst = [1, 2, 3]\n",
    "     lst.append(4)  # Adds 4 at the end\n",
    "     lst.insert(1, 5)  # Inserts 5 at index 1\n",
    "     print(lst)  # Output: [1, 5, 2, 3, 4]\n",
    "     ```\n",
    "\n",
    "9. **Can Be Empty**:\n",
    "   - Lists can also be empty, and an empty list is represented by `[]`.\n",
    "   - Example:\n",
    "     ```python\n",
    "     empty_lst = []\n",
    "     ```\n",
    "\n",
    "10. **Support for Concatenation and Repetition**:\n",
    "    - You can concatenate two or more lists using the `+` operator, or repeat a list multiple times using the `*` operator.\n",
    "    - Example:\n",
    "      ```python\n",
    "      lst1 = [1, 2]\n",
    "      lst2 = [3, 4]\n",
    "      print(lst1 + lst2)  # Output: [1, 2, 3, 4]\n",
    "      print(lst1 * 3)  # Output: [1, 2, 1, 2, 1, 2]\n",
    "      ```\n",
    "\n",
    "11. **Support for List Comprehensions**:\n",
    "    - Lists support **list comprehensions**, which provide a concise way to create or manipulate lists.\n",
    "    - Example:\n",
    "      ```python\n",
    "      lst = [x * 2 for x in range(5)]\n",
    "      print(lst)  # Output: [0, 2, 4, 6, 8]\n",
    "      ```\n",
    "\n",
    "12. **Can Be Used with Various Methods**:\n",
    "    - Lists come with a wide variety of built-in methods, such as `append()`, `extend()`, `remove()`, `pop()`, `reverse()`, and more.\n",
    "    - Example:\n",
    "      ```python\n",
    "      lst = [1, 2, 3]\n",
    "      lst.remove(2)  # Removes the first occurrence of 2\n",
    "      print(lst)  # Output: [1, 3]\n",
    "      ```\n",
    "\n",
    "---\n",
    "\n",
    "### Summary of List Properties:\n",
    "- **Mutable**\n",
    "- **Ordered**\n",
    "- **Heterogeneous** (can store different data types)\n",
    "- **Can have duplicate elements**\n",
    "- **Support for indexing and slicing**\n",
    "- **Dynamic size** (can grow or shrink)\n",
    "- **Can contain nested lists** (lists inside lists)\n",
    "- **Efficient for insertion and deletion**\n",
    "- **Can be empty**\n",
    "- **Support concatenation and repetition**\n",
    "- **Support list comprehensions**\n",
    "- **Can be used with various built-in methods**\n"
   ]
  },
  {
   "cell_type": "markdown",
   "metadata": {},
   "source": [
    "# Python Programs for List Operations"
   ]
  },
  {
   "cell_type": "markdown",
   "metadata": {},
   "source": [
    "### 1. Find the Second Largest Number in a List"
   ]
  },
  {
   "cell_type": "code",
   "execution_count": null,
   "metadata": {},
   "outputs": [],
   "source": [
    "def second_largest(lst):\n",
    "    if len(lst) < 2:\n",
    "        return \"List has less than 2 elements\"\n",
    "    unique_sorted = sorted(set(lst), reverse=True)\n",
    "    return unique_sorted[1] if len(unique_sorted) > 1 else unique_sorted[0]\n",
    "\n",
    "# Example\n",
    "lst = [10, 20, 4, 45, 99, 99]\n",
    "print(\"Second largest:\", second_largest(lst))"
   ]
  },
  {
   "cell_type": "markdown",
   "metadata": {},
   "source": [
    "### 2. Remove Duplicates from a List"
   ]
  },
  {
   "cell_type": "code",
   "execution_count": null,
   "metadata": {},
   "outputs": [],
   "source": [
    "def remove_duplicates(lst):\n",
    "    return list(set(lst))\n",
    "\n",
    "# Example\n",
    "lst = [1, 2, 2, 3, 4, 4, 5]\n",
    "print(\"List without duplicates:\", remove_duplicates(lst))"
   ]
  },
  {
   "cell_type": "markdown",
   "metadata": {},
   "source": [
    "### 3. Find the Intersection of Two Lists"
   ]
  },
  {
   "cell_type": "code",
   "execution_count": null,
   "metadata": {},
   "outputs": [],
   "source": [
    "def intersection(lst1, lst2):\n",
    "    return list(set(lst1) & set(lst2))\n",
    "\n",
    "# Example\n",
    "lst1 = [1, 2, 3, 4, 5]\n",
    "lst2 = [4, 5, 6, 7, 8]\n",
    "print(\"Intersection:\", intersection(lst1, lst2))"
   ]
  },
  {
   "cell_type": "markdown",
   "metadata": {},
   "source": [
    "### 4. Reverse a List Without Using the Built-in Reverse Function"
   ]
  },
  {
   "cell_type": "code",
   "execution_count": null,
   "metadata": {},
   "outputs": [],
   "source": [
    "def reverse_list(lst):\n",
    "    return lst[::-1]\n",
    "\n",
    "# Example\n",
    "lst = [1, 2, 3, 4, 5]\n",
    "print(\"Reversed list:\", reverse_list(lst))"
   ]
  },
  {
   "cell_type": "markdown",
   "metadata": {},
   "source": [
    "### 5. Count the Number of Occurrences of Each Element in a List"
   ]
  },
  {
   "cell_type": "code",
   "execution_count": null,
   "metadata": {},
   "outputs": [],
   "source": [
    "from collections import Counter\n",
    "\n",
    "def count_occurrences(lst):\n",
    "    return Counter(lst)\n",
    "\n",
    "# Example\n",
    "lst = [1, 2, 2, 3, 3, 3, 4]\n",
    "print(\"Occurrences:\", count_occurrences(lst))"
   ]
  },
  {
   "cell_type": "markdown",
   "metadata": {},
   "source": [
    "### 6. Sort a List of Tuples Based on the Second Element"
   ]
  },
  {
   "cell_type": "code",
   "execution_count": null,
   "metadata": {},
   "outputs": [],
   "source": [
    "def sort_tuples(lst):\n",
    "    return sorted(lst, key=lambda x: x[1])\n",
    "\n",
    "# Example\n",
    "lst = [(1, 3), (4, 1), (2, 2)]\n",
    "print(\"Sorted tuples:\", sort_tuples(lst))"
   ]
  },
  {
   "cell_type": "markdown",
   "metadata": {},
   "source": [
    "### 7. Merge Two Lists into a List of Tuples"
   ]
  },
  {
   "cell_type": "code",
   "execution_count": null,
   "metadata": {},
   "outputs": [],
   "source": [
    "def merge_lists(lst1, lst2):\n",
    "    return list(zip(lst1, lst2))\n",
    "\n",
    "# Example\n",
    "lst1 = [1, 2, 3]\n",
    "lst2 = ['a', 'b', 'c']\n",
    "print(\"Merged list of tuples:\", merge_lists(lst1, lst2))"
   ]
  },
  {
   "cell_type": "markdown",
   "metadata": {},
   "source": [
    "### 8. Flatten a Nested List"
   ]
  },
  {
   "cell_type": "code",
   "execution_count": null,
   "metadata": {},
   "outputs": [],
   "source": [
    "def flatten_list(nested_lst):\n",
    "    flat_list = []\n",
    "    for item in nested_lst:\n",
    "        if isinstance(item, list):\n",
    "            flat_list.extend(flatten_list(item))\n",
    "        else:\n",
    "            flat_list.append(item)\n",
    "    return flat_list\n",
    "\n",
    "# Example\n",
    "nested_lst = [1, [2, [3, 4], 5], 6]\n",
    "print(\"Flattened list:\", flatten_list(nested_lst))"
   ]
  },
  {
   "cell_type": "markdown",
   "metadata": {},
   "source": [
    "### 9. Find Common Elements Between Two Lists"
   ]
  },
  {
   "cell_type": "code",
   "execution_count": null,
   "metadata": {},
   "outputs": [],
   "source": [
    "def common_elements(lst1, lst2):\n",
    "    return list(set(lst1) & set(lst2))\n",
    "\n",
    "# Example\n",
    "lst1 = [1, 2, 3, 4, 5]\n",
    "lst2 = [4, 5, 6, 7, 8]\n",
    "print(\"Common elements:\", common_elements(lst1, lst2))"
   ]
  },
  {
   "cell_type": "markdown",
   "metadata": {},
   "source": [
    "### 10. Rotate the Elements of a List by a Specified Number of Positions"
   ]
  },
  {
   "cell_type": "code",
   "execution_count": null,
   "metadata": {},
   "outputs": [],
   "source": [
    "def rotate_list(lst, k):\n",
    "    k = k % len(lst)  # Handle cases where k > len(lst)\n",
    "    return lst[-k:] + lst[:-k]\n",
    "\n",
    "# Example\n",
    "lst = [1, 2, 3, 4, 5]\n",
    "k = 2\n",
    "print(f\"Rotated list by {k} positions:\", rotate_list(lst, k))"
   ]
  }
 ],
 "metadata": {
  "kernelspec": {
   "display_name": "Python 3",
   "language": "python",
   "name": "python3"
  },
  "language_info": {
   "codemirror_mode": {
    "name": "ipython",
    "version": 3
   },
   "file_extension": ".py",
   "mimetype": "text/x-python",
   "name": "python",
   "nbconvert_exporter": "python",
   "pygments_lexer": "ipython3",
   "version": "3.13.2"
  }
 },
 "nbformat": 4,
 "nbformat_minor": 4
}

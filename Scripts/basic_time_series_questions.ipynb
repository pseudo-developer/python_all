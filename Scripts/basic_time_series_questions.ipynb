{
 "cells": [
  {
   "cell_type": "markdown",
   "metadata": {},
   "source": [
    "# Time Series Handling and Time-Related Functions in Python"
   ]
  },
  {
   "cell_type": "markdown",
   "metadata": {},
   "source": [
    "### 1. Convert a String to a `datetime` Object Using `strptime`"
   ]
  },
  {
   "cell_type": "code",
   "execution_count": null,
   "metadata": {},
   "outputs": [],
   "source": [
    "from datetime import datetime\n",
    "\n",
    "date_str = \"2023-10-25 14:30:00\"\n",
    "date_obj = datetime.strptime(date_str, \"%Y-%m-%d %H:%M:%S\")\n",
    "print(\"Datetime object:\", date_obj)"
   ]
  },
  {
   "cell_type": "markdown",
   "metadata": {},
   "source": [
    "### 2. Format a `datetime` Object to a String Using `strftime`"
   ]
  },
  {
   "cell_type": "code",
   "execution_count": null,
   "metadata": {},
   "outputs": [],
   "source": [
    "from datetime import datetime\n",
    "\n",
    "date_obj = datetime(2023, 10, 25, 14, 30, 0)\n",
    "date_str = date_obj.strftime(\"%Y-%m-%d %H:%M:%S\")\n",
    "print(\"Formatted string:\", date_str)"
   ]
  },
  {
   "cell_type": "markdown",
   "metadata": {},
   "source": [
    "### 3. Get the Current Date and Time"
   ]
  },
  {
   "cell_type": "code",
   "execution_count": null,
   "metadata": {},
   "outputs": [],
   "source": [
    "from datetime import datetime\n",
    "\n",
    "current_time = datetime.now()\n",
    "print(\"Current date and time:\", current_time)"
   ]
  },
  {
   "cell_type": "markdown",
   "metadata": {},
   "source": [
    "### 4. Extract Year, Month, Day, Hour, Minute, and Second from a `datetime` Object"
   ]
  },
  {
   "cell_type": "code",
   "execution_count": null,
   "metadata": {},
   "outputs": [],
   "source": [
    "from datetime import datetime\n",
    "\n",
    "date_obj = datetime(2023, 10, 25, 14, 30, 0)\n",
    "print(\"Year:\", date_obj.year)\n",
    "print(\"Month:\", date_obj.month)\n",
    "print(\"Day:\", date_obj.day)\n",
    "print(\"Hour:\", date_obj.hour)\n",
    "print(\"Minute:\", date_obj.minute)\n",
    "print(\"Second:\", date_obj.second)"
   ]
  },
  {
   "cell_type": "markdown",
   "metadata": {},
   "source": [
    "### 5. Add or Subtract Days from a `datetime` Object"
   ]
  },
  {
   "cell_type": "code",
   "execution_count": null,
   "metadata": {},
   "outputs": [],
   "source": [
    "from datetime import datetime, timedelta\n",
    "\n",
    "date_obj = datetime(2023, 10, 25)\n",
    "new_date = date_obj + timedelta(days=5)\n",
    "print(\"Date after adding 5 days:\", new_date)"
   ]
  },
  {
   "cell_type": "markdown",
   "metadata": {},
   "source": [
    "### 6. Calculate the Difference Between Two `datetime` Objects"
   ]
  },
  {
   "cell_type": "code",
   "execution_count": null,
   "metadata": {},
   "outputs": [],
   "source": [
    "from datetime import datetime\n",
    "\n",
    "date1 = datetime(2023, 10, 25)\n",
    "date2 = datetime(2023, 10, 30)\n",
    "difference = date2 - date1\n",
    "print(\"Difference in days:\", difference.days)"
   ]
  },
  {
   "cell_type": "markdown",
   "metadata": {},
   "source": [
    "### 7. Convert a Timestamp to a `datetime` Object"
   ]
  },
  {
   "cell_type": "code",
   "execution_count": null,
   "metadata": {},
   "outputs": [],
   "source": [
    "from datetime import datetime\n",
    "\n",
    "timestamp = 1698244200  # Unix timestamp\n",
    "date_obj = datetime.fromtimestamp(timestamp)\n",
    "print(\"Datetime object:\", date_obj)"
   ]
  },
  {
   "cell_type": "markdown",
   "metadata": {},
   "source": [
    "### 8. Convert a `datetime` Object to a Timestamp"
   ]
  },
  {
   "cell_type": "code",
   "execution_count": null,
   "metadata": {},
   "outputs": [],
   "source": [
    "from datetime import datetime\n",
    "\n",
    "date_obj = datetime(2023, 10, 25, 14, 30, 0)\n",
    "timestamp = date_obj.timestamp()\n",
    "print(\"Timestamp:\", timestamp)"
   ]
  },
  {
   "cell_type": "markdown",
   "metadata": {},
   "source": [
    "### 9. Get the Day of the Week from a `datetime` Object"
   ]
  },
  {
   "cell_type": "code",
   "execution_count": null,
   "metadata": {},
   "outputs": [],
   "source": [
    "from datetime import datetime\n",
    "\n",
    "date_obj = datetime(2023, 10, 25)\n",
    "print(\"Day of the week:\", date_obj.strftime(\"%A\"))"
   ]
  },
  {
   "cell_type": "markdown",
   "metadata": {},
   "source": [
    "### 10. Check if a Year is a Leap Year"
   ]
  },
  {
   "cell_type": "code",
   "execution_count": null,
   "metadata": {},
   "outputs": [],
   "source": [
    "import calendar\n",
    "\n",
    "year = 2024\n",
    "print(\"Is\", year, \"a leap year?\", calendar.isleap(year))"
   ]
  },
  {
   "cell_type": "markdown",
   "metadata": {},
   "source": [
    "### 11. Create a Range of Dates Using `pandas.date_range`"
   ]
  },
  {
   "cell_type": "code",
   "execution_count": null,
   "metadata": {},
   "outputs": [],
   "source": [
    "import pandas as pd\n",
    "\n",
    "date_range = pd.date_range(start=\"2023-10-01\", end=\"2023-10-10\", freq=\"D\")\n",
    "print(\"Date range:\", date_range)"
   ]
  },
  {
   "cell_type": "markdown",
   "metadata": {},
   "source": [
    "### 12. Resample a Time Series to a Different Frequency Using `pandas`"
   ]
  },
  {
   "cell_type": "code",
   "execution_count": null,
   "metadata": {},
   "outputs": [],
   "source": [
    "import pandas as pd\n",
    "\n",
    "data = pd.Series(range(10), index=pd.date_range(start=\"2023-10-01\", periods=10, freq=\"D\"))\n",
    "resampled = data.resample(\"2D\").mean()\n",
    "print(\"Resampled data:\", resampled)"
   ]
  },
  {
   "cell_type": "markdown",
   "metadata": {},
   "source": [
    "### 13. Shift a Time Series Forward or Backward in Time Using `pandas`"
   ]
  },
  {
   "cell_type": "code",
   "execution_count": null,
   "metadata": {},
   "outputs": [],
   "source": [
    "import pandas as pd\n",
    "\n",
    "data = pd.Series(range(5), index=pd.date_range(start=\"2023-10-01\", periods=5, freq=\"D\"))\n",
    "shifted = data.shift(2)\n",
    "print(\"Shifted data:\", shifted)"
   ]
  },
  {
   "cell_type": "markdown",
   "metadata": {},
   "source": [
    "### 14. Calculate the Rolling Mean of a Time Series Using `pandas`"
   ]
  },
  {
   "cell_type": "code",
   "execution_count": null,
   "metadata": {},
   "outputs": [],
   "source": [
    "import pandas as pd\n",
    "\n",
    "data = pd.Series(range(10), index=pd.date_range(start=\"2023-10-01\", periods=10, freq=\"D\"))\n",
    "rolling_mean = data.rolling(window=3).mean()\n",
    "print(\"Rolling mean:\", rolling_mean)"
   ]
  },
  {
   "cell_type": "markdown",
   "metadata": {},
   "source": [
    "### 15. Handle Missing Values in a Time Series Using `pandas`"
   ]
  },
  {
   "cell_type": "code",
   "execution_count": null,
   "metadata": {},
   "outputs": [],
   "source": [
    "import pandas as pd\n",
    "import numpy as np\n",
    "\n",
    "data = pd.Series([1, np.nan, 3, np.nan, 5], index=pd.date_range(start=\"2023-10-01\", periods=5, freq=\"D\"))\n",
    "filled_data = data.fillna(method=\"ffill\")\n",
    "print(\"Filled data:\", filled_data)"
   ]
  },
  {
   "cell_type": "markdown",
   "metadata": {},
   "source": [
    "### 16. Convert a Time Series to a Different Time Zone"
   ]
  },
  {
   "cell_type": "code",
   "execution_count": null,
   "metadata": {},
   "outputs": [],
   "source": [
    "import pandas as pd\n",
    "\n",
    "data = pd.Series(range(5), index=pd.date_range(start=\"2023-10-01\", periods=5, freq=\"D\", tz=\"UTC\"))\n",
    "converted = data.tz_convert(\"US/Eastern\")\n",
    "print(\"Converted time zone:\", converted)"
   ]
  },
  {
   "cell_type": "markdown",
   "metadata": {},
   "source": [
    "### 17. Parse a String with a Time Zone into a `datetime` Object"
   ]
  },
  {
   "cell_type": "code",
   "execution_count": null,
   "metadata": {},
   "outputs": [],
   "source": [
    "from datetime import datetime\n",
    "\n",
    "date_str = \"2023-10-25 14:30:00+05:30\"\n",
    "date_obj = datetime.fromisoformat(date_str)\n",
    "print(\"Datetime object with time zone:\", date_obj)"
   ]
  },
  {
   "cell_type": "markdown",
   "metadata": {},
   "source": [
    "### 18. Calculate the Number of Days Between Two Dates"
   ]
  },
  {
   "cell_type": "code",
   "execution_count": null,
   "metadata": {},
   "outputs": [],
   "source": [
    "from datetime import datetime\n",
    "\n",
    "date1 = datetime(2023, 10, 25)\n",
    "date2 = datetime(2023, 10, 30)\n",
    "difference = (date2 - date1).days\n",
    "print(\"Number of days between dates:\", difference)"
   ]
  },
  {
   "cell_type": "markdown",
   "metadata": {},
   "source": [
    "### 19. Find the Last Day of the Month for a Given Date"
   ]
  },
  {
   "cell_type": "code",
   "execution_count": null,
   "metadata": {},
   "outputs": [],
   "source": [
    "import calendar\n",
    "from datetime import datetime\n",
    "\n",
    "date_obj = datetime(2023, 10, 25)\n",
    "last_day = calendar.monthrange(date_obj.year, date_obj.month)[1]\n",
    "print(\"Last day of the month:\", last_day)"
   ]
  },
  {
   "cell_type": "markdown",
   "metadata": {},
   "source": [
    "### 20. Group a Time Series by Month and Calculate the Average"
   ]
  },
  {
   "cell_type": "code",
   "execution_count": null,
   "metadata": {},
   "outputs": [],
   "source": [
    "import pandas as pd\n",
    "\n",
    "data = pd.Series(range(10), index=pd.date_range(start=\"2023-10-01\", periods=10, freq=\"D\"))\n",
    "monthly_avg = data.resample(\"M\").mean()\n",
    "print(\"Monthly average:\", monthly_avg)"
   ]
  }
 ],
 "metadata": {
  "kernelspec": {
   "display_name": "Python 3",
   "language": "python",
   "name": "python3"
  },
  "language_info": {
   "codemirror_mode": {
    "name": "ipython",
    "version": 3
   },
   "file_extension": ".py",
   "mimetype": "text/x-python",
   "name": "python",
   "nbconvert_exporter": "python",
   "pygments_lexer": "ipython3",
   "version": "3.8.5"
  }
 },
 "nbformat": 4,
 "nbformat_minor": 4
}
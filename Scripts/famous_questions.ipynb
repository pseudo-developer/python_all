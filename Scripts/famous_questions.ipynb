{
 "cells": [
  {
   "cell_type": "markdown",
   "metadata": {},
   "source": [
    "## LISTS"
   ]
  },
  {
   "cell_type": "markdown",
   "metadata": {},
   "source": [
    "Find the largest number in a list"
   ]
  },
  {
   "cell_type": "code",
   "execution_count": 1,
   "metadata": {},
   "outputs": [
    {
     "name": "stdout",
     "output_type": "stream",
     "text": [
      "99\n"
     ]
    }
   ],
   "source": [
    "numbers=[32,44,44,12,32,22,18,99,99]\n",
    "largest = numbers[0] \n",
    "for i in range(len(numbers)):\n",
    "    if numbers[i] > largest:\n",
    "        largest = numbers[i]\n",
    "    else :\n",
    "        largest =  largest\n",
    "        \n",
    "print(largest)"
   ]
  },
  {
   "cell_type": "markdown",
   "metadata": {},
   "source": [
    "two second largets number in list : method 1\n",
    "\n",
    "Time Complexity\n",
    "Single Pass through List: The function iterates through the list once, performing constant-time operations (comparisons and assignments) for each element.\n",
    "Loop Complexity: O(n), where n is the number of elements in the list.\n",
    "Overall Complexity: Since the function processes each element of the list exactly once, the time complexity is O(n).\n",
    "Space Complexity\n",
    "Variable Storage: The function uses a constant amount of extra space for storing variables:\n",
    "\n",
    "flargest and slargest: Two variables for tracking the largest and second largest numbers.\n",
    "num: A temporary variable used during iteration.\n",
    "No Extra Data Structures: The function does not use any additional data structures (like lists or sets) that scale with input size.\n",
    "\n",
    "Overall Complexity: The space complexity is O(1), as the space used does not depend on the size of the input list.\n",
    "\n",
    "Summary\n",
    "Time Complexity: O(n)\n",
    "Space Complexity: O(1)"
   ]
  },
  {
   "cell_type": "code",
   "execution_count": 3,
   "metadata": {},
   "outputs": [
    {
     "name": "stdout",
     "output_type": "stream",
     "text": [
      "Largest: 11\n",
      "Second Largest: 10\n"
     ]
    }
   ],
   "source": [
    "def find_two_largest(numbers):\n",
    "    if len(numbers) < 2:\n",
    "        raise ValueError(\"List must contain at least two numbers\")\n",
    "    \n",
    "    # Initialize to negative infinity to handle all possible numbers\n",
    "    flargest, slargest = float('-inf'), float('-inf')\n",
    "    \n",
    "    for num in numbers:\n",
    "        if num > flargest:\n",
    "            flargest, slargest = num, flargest\n",
    "        elif num > slargest and num < flargest:\n",
    "            slargest = num\n",
    "    \n",
    "    # If no distinct second largest found, use the largest for both\n",
    "    if slargest == float('-inf'):\n",
    "        slargest = flargest\n",
    "    \n",
    "    return flargest, slargest\n",
    "\n",
    "# Example list where all elements are the same\n",
    "# numbers = [10, 10, 10, 10, 10]\n",
    "numbers = [10,11]\n",
    "\n",
    "largest, second_largest = find_two_largest(numbers)\n",
    "print(\"Largest:\", largest)\n",
    "print(\"Second Largest:\", second_largest)"
   ]
  },
  {
   "cell_type": "markdown",
   "metadata": {},
   "source": [
    "Find the nth largest number of a list\n",
    "\n",
    "Summary\n",
    "Time Complexity: O(n^2) in the worst case due to repeated max() and remove() operations.\n",
    "Space Complexity: O(n) due to storing unique elements."
   ]
  },
  {
   "cell_type": "code",
   "execution_count": 2,
   "metadata": {},
   "outputs": [
    {
     "name": "stdout",
     "output_type": "stream",
     "text": [
      "The 2th largest number is: 32\n"
     ]
    }
   ],
   "source": [
    "def find_nth_largest(numbers, n):\n",
    "    if n <= 0:\n",
    "        raise ValueError(\"n must be a positive integer\")\n",
    "    if len(numbers) < n:\n",
    "        raise ValueError(\"List must contain at least n numbers\")\n",
    "    \n",
    "    # Initialize a set to track unique values\n",
    "    unique_numbers = list(set(numbers))\n",
    "    \n",
    "    # Check if there are enough unique numbers\n",
    "    if len(unique_numbers) < n:\n",
    "        raise ValueError(\"Not enough unique elements to find the nth largest\")\n",
    "    \n",
    "    # Find the nth largest using a two-pass approach\n",
    "    for _ in range(n):\n",
    "        # Find the maximum value in the current list\n",
    "        max_value = max(unique_numbers)\n",
    "        # Remove the maximum value\n",
    "        unique_numbers.remove(max_value)\n",
    "    \n",
    "    return max_value\n",
    "\n",
    "# Example list\n",
    "numbers = [32, 44, 44, 12, 32, 22, 18]\n",
    "n = 2\n",
    "\n",
    "try:\n",
    "    nth_largest = find_nth_largest(numbers, n)\n",
    "    print(f\"The {n}th largest number is:\", nth_largest)\n",
    "except ValueError as e:\n",
    "    print(e)\n"
   ]
  },
  {
   "cell_type": "markdown",
   "metadata": {},
   "source": [
    "Q. Given an integer array nums, return all the triplets [nums[i], nums[j], nums[k]] such that i != j, i != k, and j != k, and nums[i] + nums[j] + nums[k] == 0.\n",
    "#### Sample Input : nums = [-1, 0, 1, 2, -1, -4]\n",
    "#### Sample Output : [[-1, -1, 2], [-1, 0, 1]]"
   ]
  },
  {
   "cell_type": "code",
   "execution_count": 1,
   "metadata": {},
   "outputs": [
    {
     "name": "stdout",
     "output_type": "stream",
     "text": [
      "[[-1, -1, 2], [-1, 0, 1]]\n"
     ]
    }
   ],
   "source": [
    "def three_sum(nums):\n",
    "    # Sort the array to enable two-pointer technique\n",
    "    nums.sort()\n",
    "    triplets = []\n",
    "    \n",
    "    # Iterate through the array, treating each number as the first number in the triplet\n",
    "    for i in range(len(nums) - 2):\n",
    "        # Skip duplicates for the first number\n",
    "        if i > 0 and nums[i] == nums[i - 1]:\n",
    "            continue\n",
    "        \n",
    "        # Two pointers\n",
    "        left, right = i + 1, len(nums) - 1\n",
    "        \n",
    "        while left < right:\n",
    "            current_sum = nums[i] + nums[left] + nums[right]\n",
    "            \n",
    "            if current_sum == 0:\n",
    "                # Found a triplet\n",
    "                triplets.append([nums[i], nums[left], nums[right]])\n",
    "                \n",
    "                # Skip duplicates for the second and third numbers\n",
    "                while left < right and nums[left] == nums[left + 1]:\n",
    "                    left += 1\n",
    "                while left < right and nums[right] == nums[right - 1]:\n",
    "                    right -= 1\n",
    "                \n",
    "                # Move pointers inward\n",
    "                left += 1\n",
    "                right -= 1\n",
    "            elif current_sum < 0:\n",
    "                # Need a larger sum, move left pointer to the right\n",
    "                left += 1\n",
    "            else:\n",
    "                # Need a smaller sum, move right pointer to the left\n",
    "                right -= 1\n",
    "                \n",
    "    return triplets\n",
    "\n",
    "# Sample Input\n",
    "nums = [-1, 0, 1, 2, -1, -4]\n",
    "# Expected Output: [[-1, -1, 2], [-1, 0, 1]]\n",
    "\n",
    "# Call the function and print the output\n",
    "print(three_sum(nums))\n"
   ]
  },
  {
   "cell_type": "markdown",
   "metadata": {},
   "source": [
    "Delete the first occurene of the maximum value in the list"
   ]
  },
  {
   "cell_type": "code",
   "execution_count": 3,
   "metadata": {},
   "outputs": [
    {
     "name": "stdout",
     "output_type": "stream",
     "text": [
      "44\n",
      "1\n",
      "[32, 44, 12, 32, 22, 18]\n",
      "44\n"
     ]
    }
   ],
   "source": [
    "numbers = [32, 44, 44, 12, 32, 22, 18]\n",
    "max_number = max(numbers)\n",
    "\n",
    "print(max_number)\n",
    "\n",
    "max_index = numbers.index(max_number)\n",
    "print(max_index)\n",
    "\n",
    "# Step 3: Remove the first occurrence of the maximum number\n",
    "numbers.pop(max_index)\n",
    "\n",
    "print(numbers)\n",
    "print(max(numbers))"
   ]
  },
  {
   "cell_type": "markdown",
   "metadata": {},
   "source": [
    "Enumerate example"
   ]
  },
  {
   "cell_type": "code",
   "execution_count": 4,
   "metadata": {},
   "outputs": [
    {
     "name": "stdout",
     "output_type": "stream",
     "text": [
      "Index: 1, Value: a\n",
      "Index: 2, Value: b\n",
      "Index: 3, Value: c\n",
      "Index: 4, Value: d\n"
     ]
    }
   ],
   "source": [
    "# Example list to \"enumerate\"\n",
    "numbers = ['a', 'b', 'c', 'd']\n",
    "\n",
    "# Using enumerate in a loop\n",
    "for index, value in enumerate(numbers):\n",
    "    print(f\"Index: {index}, Value: {value}\")\n"
   ]
  },
  {
   "cell_type": "markdown",
   "metadata": {},
   "source": [
    "To find the element level duplicate count in the list"
   ]
  },
  {
   "cell_type": "code",
   "execution_count": 27,
   "metadata": {},
   "outputs": [
    {
     "name": "stdout",
     "output_type": "stream",
     "text": [
      "{22: 3, 45: 1, 56: 2, 24: 1, 30: 1, 10: 2}\n",
      "unique numbers [45, 24, 30]\n",
      "duplicate numbers [22, 56, 10]\n"
     ]
    }
   ],
   "source": [
    "numbers = [22, 45, 56, 56, 24, 22, 22, 30, 10, 10]\n",
    "d = {}\n",
    "for i in numbers:\n",
    "    if i not in d:\n",
    "        d[i] = 1\n",
    "    else:\n",
    "        d[i] = d[i] + 1\n",
    "print(d)  # dict with respective count of all elements\n",
    "\n",
    "# filter the values in dictionary with value=1 for unique;  value> 1 for duplicates\n",
    "unique = [i for i in d if d[i]==1]\n",
    "print(\"unique numbers\", unique)\n",
    "\n",
    "duplicates = [i for i in d if d[i]>1]\n",
    "print(\"duplicate numbers\", duplicates)\n"
   ]
  },
  {
   "cell_type": "markdown",
   "metadata": {},
   "source": [
    "### 2-sum problem : Use method 1 (always)\n",
    "Reference Link : https://www.youtube.com/watch?v=gCin6Qz-eJQ"
   ]
  },
  {
   "cell_type": "markdown",
   "metadata": {},
   "source": [
    "Method 1 : 1st and last variable sum : BEST METHOD"
   ]
  },
  {
   "cell_type": "code",
   "execution_count": 3,
   "metadata": {},
   "outputs": [
    {
     "name": "stdout",
     "output_type": "stream",
     "text": [
      "Pairs that sum up to 13 are: [(2, 11), (9, 4)]\n",
      "[(2, 7)]\n"
     ]
    }
   ],
   "source": [
    "A = [-2, 1, 2, 4, 7, 9, 4, 11]   # Given a SORTED list\n",
    "target = 13\n",
    "\n",
    "# Time complexity = O(n) (only 1 loop)\n",
    "# Space Complexity = O(1) (nothing is getting stored)\n",
    "\n",
    "# Gives all pairs of matching target as sum\n",
    "def two_sum(A, target):\n",
    "    i = 0\n",
    "    j = len(A) - 1\n",
    "    pairs = []\n",
    "    \n",
    "    while i < j:\n",
    "        current_sum = A[i] + A[j]\n",
    "        if current_sum == target:\n",
    "            pairs.append((A[i], A[j]))\n",
    "            i += 1\n",
    "            j -= 1\n",
    "        elif current_sum < target:\n",
    "            i += 1\n",
    "        else:  # means : current_sum > target\n",
    "            j -= 1\n",
    "    \n",
    "    return pairs\n",
    "\n",
    "result = two_sum(A, target)\n",
    "print(\"Pairs that sum up to\", target, \"are:\", result)\n",
    "\n",
    "# Key Points:\n",
    "# Incrementing i: When the current sum is too small, you need a larger number to reach the target.\n",
    "# Decrementing j: When the current sum is too large, you need a smaller number to reach the target.\n",
    "# Both Pointers Adjustment: When you find a valid pair, adjust both pointers to explore other potential pairs."
   ]
  },
  {
   "cell_type": "code",
   "execution_count": 28,
   "metadata": {},
   "outputs": [
    {
     "name": "stdout",
     "output_type": "stream",
     "text": [
      "2 11\n"
     ]
    },
    {
     "data": {
      "text/plain": [
       "True"
      ]
     },
     "execution_count": 28,
     "metadata": {},
     "output_type": "execute_result"
    }
   ],
   "source": [
    "# Same method but loop terinates when it fnds first pair\n",
    "\n",
    "# Time complexity = O(n) (only 1 loop)\n",
    "# Space Complexity = O(1) (nothing is getting stored)\n",
    "\n",
    "A = [-2,1,2,4,7,9,4,11]\n",
    "target = 13\n",
    "\n",
    "# Only first pair of target matching\n",
    "def two_sum(A,target):\n",
    "    i = 0\n",
    "    j = len(A)-1\n",
    "    \n",
    "    while i <= j:\n",
    "        if A[i]+A[j] == target:\n",
    "            print(A[i], A[j])\n",
    "            return True\n",
    "        elif A[i] + A[j] < target:\n",
    "            i += 1\n",
    "        else:  # A[i] + A[j] > target\n",
    "            j -= 1\n",
    "    return False\n",
    "\n",
    "two_sum(A,target)"
   ]
  },
  {
   "cell_type": "markdown",
   "metadata": {},
   "source": [
    "Method 2 : BRUTE FORCE"
   ]
  },
  {
   "cell_type": "code",
   "execution_count": 30,
   "metadata": {},
   "outputs": [
    {
     "name": "stdout",
     "output_type": "stream",
     "text": [
      "The pair is this : 2 11\n"
     ]
    },
    {
     "data": {
      "text/plain": [
       "True"
      ]
     },
     "execution_count": 30,
     "metadata": {},
     "output_type": "execute_result"
    }
   ],
   "source": [
    "# Method 2 : BRUTE FORCE\n",
    "A = [-2,1,2,4,7,11]\n",
    "target = 13\n",
    "\n",
    "# Time complexity = O(n^2) (two for loops in nested way)\n",
    "# Space Complexity = O(1) (nothing is getting stored)\n",
    "\n",
    "def two_sum_brute_force(A, target):\n",
    "    for i in range(len(A) - 1):\n",
    "        for j in range(i+1, len(A)):\n",
    "            if A[i] + A[j] == target:\n",
    "                print(\"The pair is this :\",A[i],A[j])\n",
    "                return True\n",
    "    return False\n",
    "\n",
    "two_sum_brute_force(A, target)"
   ]
  },
  {
   "cell_type": "markdown",
   "metadata": {},
   "source": [
    "Method 3 : hash table method"
   ]
  },
  {
   "cell_type": "code",
   "execution_count": 31,
   "metadata": {},
   "outputs": [
    {
     "name": "stdout",
     "output_type": "stream",
     "text": [
      "The pair is this : 4 9\n"
     ]
    },
    {
     "data": {
      "text/plain": [
       "True"
      ]
     },
     "execution_count": 31,
     "metadata": {},
     "output_type": "execute_result"
    }
   ],
   "source": [
    "A = [-2,1,2,4,7,9,4,11]\n",
    "target = 13\n",
    "\n",
    "## Approach:\n",
    "# A = [2,4,6]\n",
    "# target = 10\n",
    " \n",
    "# 1st iteration : i = 0\n",
    "# ht = dict()\n",
    "# ht[target - a[i]] :ht[8] = 2  ->We keep storing the complement:value pair in thie dict\n",
    "# so ht looks like : {'8':2}\n",
    "\n",
    "# 2nd iteration: i = 1\n",
    "# ht[target - a[i]]: ht[6] = 4\n",
    "# so ht looks like : { '8':2, \n",
    "#                     '6':4 }\n",
    "\n",
    "# 3rd iteration: It finds that the third element is 6, which is present already in the dict. So it will stop here and fetch the value of the \"key\" (6 in this case) as output\n",
    "\n",
    "\n",
    "\n",
    "# Time complexity = O(n) (single for loop)\n",
    "# Space Complexity = O(n) (storing dict)\n",
    "def two_sum_hash_prob(A,target):\n",
    "    ht = dict()\n",
    "    for i in range(len(A)):\n",
    "        if A[i] in ht:\n",
    "            print(\"The pair is this :\", ht[A[i]], A[i])\n",
    "            return True\n",
    "        else:\n",
    "            ht[target -  A[i]] = A[i]\n",
    "    return False\n",
    "\n",
    "two_sum_hash_prob(A,target)"
   ]
  },
  {
   "cell_type": "markdown",
   "metadata": {},
   "source": [
    "##Q :\n",
    "Given an integer array nums, return all the triplets [nums[i], nums[j], nums[k]] such that i != j, i != k, and j != k, and nums[i] + nums[j] + nums[k] == 0.  \n",
    "\n",
    "Sample Input:- nums = [-1, 0, 1, 2, -1, -4]  \n",
    "\n",
    "Sample Output:- [[-1, -1, 2], [-1, 0, 1]]\n"
   ]
  },
  {
   "cell_type": "markdown",
   "metadata": {},
   "source": [
    "## STRINGS"
   ]
  },
  {
   "cell_type": "markdown",
   "metadata": {},
   "source": [
    "Reverse a string"
   ]
  },
  {
   "cell_type": "code",
   "execution_count": 5,
   "metadata": {},
   "outputs": [
    {
     "name": "stdout",
     "output_type": "stream",
     "text": [
      "ttttiknA\n",
      "ttttiknA\n"
     ]
    }
   ],
   "source": [
    "x = \"Ankitttt\"\n",
    "print(''.join(reversed(x))) # method 1\n",
    "splitted_x = list(x)\n",
    "print(''.join(splitted_x[::-1]))   # method 2"
   ]
  },
  {
   "cell_type": "markdown",
   "metadata": {},
   "source": [
    "Fid repeated , non-repeated elements in list"
   ]
  },
  {
   "cell_type": "code",
   "execution_count": 7,
   "metadata": {},
   "outputs": [
    {
     "name": "stdout",
     "output_type": "stream",
     "text": [
      "{'A': 2, 'r': 3, 't': 2, 'h': 2, 'i': 2, ' ': 1, 'v': 1, 'a': 4, 'j': 1}\n",
      "dict_items([('A', 2), ('r', 3), ('t', 2), ('h', 2), ('i', 2), (' ', 1), ('v', 1), ('a', 4), ('j', 1)])\n",
      "dict_values([2, 3, 2, 2, 2, 1, 1, 4, 1])\n",
      "dict_keys(['A', 'r', 't', 'h', 'i', ' ', 'v', 'a', 'j'])\n"
     ]
    }
   ],
   "source": [
    "x=\"AArthi varatharaji\"\n",
    "d={}\n",
    "\n",
    "for i in x:\n",
    "    if i not in d:\n",
    "        d[i] = 1\n",
    "    else:\n",
    "        d[i] += 1\n",
    "\n",
    "print(d)\n",
    "print(d.items())\n",
    "print(d.values()) \n",
    "print(d.keys()) "
   ]
  },
  {
   "cell_type": "markdown",
   "metadata": {},
   "source": [
    "Convert string elements to a list"
   ]
  },
  {
   "cell_type": "code",
   "execution_count": 9,
   "metadata": {},
   "outputs": [
    {
     "name": "stdout",
     "output_type": "stream",
     "text": [
      "['1', '2', '3', 'a', 'b', '6']\n",
      "split_values : ['1', '', '', '', '2', '', '', '3', '', '', 'ab', '', '', '', '6']\n",
      "output_list : [1, 2, 3, 'ab', 6]\n"
     ]
    }
   ],
   "source": [
    "input_str = \"1,,,,2,,,3,,,ab,,,,6\"\n",
    "# replaced = input_str.replace(',','')\n",
    "# print(list(replaced))\n",
    "\n",
    "split_values = input_str.split(',')\n",
    "print(\"split_values :\" , split_values)\n",
    "\n",
    "# Process the split values to convert to int if possible, and remove empty strings\n",
    "output_list = []\n",
    "for value in split_values:\n",
    "    if value:  # Check if the value is not an empty string\n",
    "        # Try converting to an integer, if not possible, keep as a string\n",
    "        try:\n",
    "            output_list.append(int(value))\n",
    "        except :\n",
    "            output_list.append(value)\n",
    "\n",
    "print(\"output_list :\", output_list)\n"
   ]
  },
  {
   "cell_type": "code",
   "execution_count": null,
   "metadata": {},
   "outputs": [],
   "source": [
    "str2 = \"hi ankit\"\n",
    "list_str2 = str2.split(\" \")\n",
    "print(list_str2)\n",
    "\n",
    "a = len(list_str2) - 1\n",
    "print(a)\n",
    "\n",
    "output_str = ''\n",
    "while a>=0:\n",
    "    output_str = output_str  + list_str2[a] + ' '\n",
    "    a-=1\n",
    "    \n",
    "print(output_str)"
   ]
  },
  {
   "cell_type": "markdown",
   "metadata": {},
   "source": [
    "Program to check if strings are anagrams or not"
   ]
  },
  {
   "cell_type": "code",
   "execution_count": null,
   "metadata": {},
   "outputs": [],
   "source": [
    "str1 = \"Race\"\n",
    "str2 = \"Care\"\n",
    "\n",
    "# convert both the strings into lowercase\n",
    "str1 = str1.lower()\n",
    "str2 = str2.lower()\n",
    "\n",
    "# check if length is same\n",
    "if(len(str1) == len(str2)):\n",
    "\n",
    "    # sort the strings\n",
    "    sorted_str1 = sorted(str1)\n",
    "    sorted_str2 = sorted(str2)\n",
    "\n",
    "    # if sorted char arrays are same\n",
    "    if(sorted_str1 == sorted_str2):\n",
    "        print(str1 + \" and \" + str2 + \" are anagram.\")\n",
    "    else:\n",
    "        print(str1 + \" and \" + str2 + \" are not anagram.\")\n",
    "\n",
    "else:\n",
    "    print(str1 + \" and \" + str2 + \" are not anagram.\")"
   ]
  },
  {
   "cell_type": "markdown",
   "metadata": {},
   "source": [
    "Program to check if two strings are palindrome or not"
   ]
  },
  {
   "cell_type": "code",
   "execution_count": 35,
   "metadata": {},
   "outputs": [
    {
     "name": "stdout",
     "output_type": "stream",
     "text": [
      "palindrome\n"
     ]
    },
    {
     "data": {
      "text/plain": [
       "True"
      ]
     },
     "execution_count": 35,
     "metadata": {},
     "output_type": "execute_result"
    }
   ],
   "source": [
    "str1 = 'naman'\n",
    "\n",
    "# Best method:\n",
    "def check_palindrome_2(str1):\n",
    "    str1 = str1.lower()\n",
    "    i = 0\n",
    "    j = len(str1) - 1\n",
    "    \n",
    "    while i <= j:\n",
    "        if str1[i] == str1[j]:\n",
    "            i += 1\n",
    "            j -= 1\n",
    "        else:\n",
    "            print(\"Not palindrome\")\n",
    "            return False\n",
    "    print(\"palindrome\")\n",
    "    return True\n",
    "\n",
    "# Sasta methdod\n",
    "def check_palindrome_1(str1, str2):\n",
    "    if str1.lower() == str1.lower()[::-1]:        # (RHS means lower_string_1 in reverse order)\n",
    "        print(str1,' is palindrome')\n",
    "    else:\n",
    "        print(\"Not palindrome\")\n",
    "\n",
    "\n",
    "check_palindrome_2(str1)\n",
    "# check_palindrome_1(str1)\n",
    "\n",
    "\n"
   ]
  },
  {
   "cell_type": "markdown",
   "metadata": {},
   "source": [
    "STARTS HERE"
   ]
  },
  {
   "cell_type": "code",
   "execution_count": 6,
   "metadata": {},
   "outputs": [
    {
     "name": "stdout",
     "output_type": "stream",
     "text": [
      "1999-02-22\n",
      "2000-12-25\n"
     ]
    }
   ],
   "source": [
    "#1. Convert list of strings into date, then convert those date strings into Date (of required format)\n",
    "lst = ['22-02-1999', '25-12-2000']\n",
    "\n",
    "from datetime import datetime\n",
    "\n",
    "for i in lst:\n",
    "    j = datetime.strptime(i, '%d-%m-%Y').strftime('%Y-%m-%d')\n",
    "    print(j)"
   ]
  },
  {
   "cell_type": "code",
   "execution_count": 13,
   "metadata": {},
   "outputs": [
    {
     "name": "stdout",
     "output_type": "stream",
     "text": [
      "['dhanbad', 'delhi']\n"
     ]
    }
   ],
   "source": [
    "# Given a dictionary of city names and their populations, how would you return a list of cities with populations greater than a specified threshold?\n",
    "\n",
    "dict1 = {\n",
    "    'una' : 200\n",
    "    ,'dhanbad' : 100000\n",
    "    ,'delhi' : 200000\n",
    "}\n",
    "\n",
    "threshold = 10000\n",
    "\n",
    "new = [ city  for city,value in dict1.items()  if value > threshold]\n",
    "print(new)"
   ]
  },
  {
   "cell_type": "code",
   "execution_count": 19,
   "metadata": {},
   "outputs": [
    {
     "name": "stdout",
     "output_type": "stream",
     "text": [
      "200\n",
      "200\n"
     ]
    }
   ],
   "source": [
    "# How would you extract a specific value from a nested dictionary?\n",
    "dict1 = {\n",
    "    'una' : {\"population\":200,\"sex_count\" : 2}\n",
    "    ,'dhanbad' : 100000\n",
    "    ,'delhi' : 200000\n",
    "}\n",
    "\n",
    "print(dict1[\"una\"][\"population\"])\n",
    "\n",
    "print(dict1.__getitem__(\"una\").__getitem__(\"population\"))"
   ]
  },
  {
   "cell_type": "code",
   "execution_count": null,
   "metadata": {},
   "outputs": [],
   "source": [
    "# Learn how to user \"Counter\" class in python\n",
    "from collections import Counter\n",
    "\n",
    "# List of assorted numbers\n",
    "numbers = [5, 2, 3, 2, 5, 7, 8, 5, 7, 2, 8, 8, 8, 9, 1]\n",
    "\n",
    "# Create a Counter object to count occurrences of each number\n",
    "number_counts = Counter(numbers)\n",
    "\n",
    "print(number_counts)"
   ]
  },
  {
   "cell_type": "code",
   "execution_count": 23,
   "metadata": {},
   "outputs": [
    {
     "name": "stdout",
     "output_type": "stream",
     "text": [
      "[('Great service!', 3)]\n"
     ]
    }
   ],
   "source": [
    "# How would you use the collections.Counter class to find the most common element in a list of customer reviews?\n",
    "\n",
    "from collections import Counter\n",
    "\n",
    "# Example list of customer reviews\n",
    "reviews = [\n",
    "    \"Great service!\",\n",
    "    \"Very satisfied with the purchase.\",\n",
    "    \"Would buy again.\",\n",
    "    \"Great service!\",\n",
    "    \"Very satisfied with the purchase.\",\n",
    "    \"Great service!\",\n",
    "]\n",
    "\n",
    "# Use Counter to count occurrences of each review\n",
    "review_counts = Counter(reviews)\n",
    "\n",
    "# Find the most common element\n",
    "most_common_review = review_counts.most_common(1)  # Returns a list of the n most common elements\n",
    "print(most_common_review)\n",
    "\n",
    "# Output the most common review and its count\n",
    "# print(f\"Most common review: {most_common_review[0][0]}\")\n",
    "# print(f\"Number of occurrences: {most_common_review[0][1]}\")\n"
   ]
  },
  {
   "cell_type": "code",
   "execution_count": null,
   "metadata": {},
   "outputs": [],
   "source": [
    "# Given a list of transactions with amounts in different currencies, how would you convert all amounts to USD using a given exchange rate dictionary?\n",
    "\n",
    "\n",
    "# List of transactions (amount, currency)\n",
    "transactions = [\n",
    "    (100, 'EUR'),  # 100 Euros\n",
    "    (200, 'JPY'),  # 200 Japanese Yen\n",
    "    (300, 'GBP'),  # 300 British Pounds\n",
    "]\n",
    "\n",
    "# Exchange rates to USD (1 unit of currency to USD)\n",
    "exchange_rates = {\n",
    "    'EUR': 1.12,  # 1 EUR = 1.12 USD\n",
    "    'JPY': 0.0091,  # 1 JPY = 0.0091 USD\n",
    "    'GBP': 1.32,  # 1 GBP = 1.32 USD\n",
    "}\n",
    "\n",
    "# Function to convert transactions to USD\n",
    "def convert_to_usd(transactions, exchange_rates):\n",
    "    usd_transactions = []\n",
    "    for amount, currency in transactions:\n",
    "        if currency in exchange_rates:\n",
    "            usd_amount = amount * exchange_rates[currency]\n",
    "            usd_transactions.append(usd_amount)\n",
    "        else:\n",
    "            raise ValueError(f\"Exchange rate for currency '{currency}' not found.\")\n",
    "    return usd_transactions\n",
    "\n",
    "# Convert transactions to USD\n",
    "usd_transactions = convert_to_usd(transactions, exchange_rates)\n",
    "\n",
    "# Output the converted amounts\n",
    "print(usd_transactions)\n"
   ]
  },
  {
   "cell_type": "code",
   "execution_count": 24,
   "metadata": {},
   "outputs": [
    {
     "name": "stdout",
     "output_type": "stream",
     "text": [
      "{0: 'apple', 1: 'mango'}\n"
     ]
    }
   ],
   "source": [
    "# create a dicionary from a single list using its indexes as keys\n",
    "a = {}\n",
    "fruits = ['apple', 'mango']\n",
    "for i in range(len(fruits)):\n",
    "    a[i] = fruits[i]\n",
    "    \n",
    "print(a)"
   ]
  },
  {
   "cell_type": "code",
   "execution_count": 9,
   "metadata": {},
   "outputs": [
    {
     "name": "stdout",
     "output_type": "stream",
     "text": [
      "YES pal\n"
     ]
    },
    {
     "data": {
      "text/plain": [
       "True"
      ]
     },
     "execution_count": 9,
     "metadata": {},
     "output_type": "execute_result"
    }
   ],
   "source": [
    "def palindrome(str1):\n",
    "    a = 0\n",
    "    b = len(str1) - 1 \n",
    "    \n",
    "    while a <= b:\n",
    "        if str1[a]==str1[b]:\n",
    "            a += 1\n",
    "            b -= 1\n",
    "        else:\n",
    "            print(\"Not pal\")\n",
    "            return False\n",
    "    print(\"YES pal\")\n",
    "    return True\n",
    "\n",
    "\n",
    "str1 = \"aba\"\n",
    "# palindrome(str1)\n"
   ]
  },
  {
   "cell_type": "code",
   "execution_count": 26,
   "metadata": {},
   "outputs": [
    {
     "data": {
      "text/plain": [
       "5"
      ]
     },
     "execution_count": 26,
     "metadata": {},
     "output_type": "execute_result"
    }
   ],
   "source": [
    "str2 = \"abcdaea\"\n",
    "# str2 = \"pwwkew\"\n",
    "def lengthOfLongestSubstring(s: str) -> int:\n",
    "\n",
    "    if len(s)==0:\n",
    "        return 0\n",
    "\n",
    "    i=0\n",
    "    j=0\n",
    "    seen=set()\n",
    "    max_count=0\n",
    "\n",
    "    while j<len(s):\n",
    "        if s[j] not in seen:\n",
    "            seen.add(s[j])\n",
    "            j+=1\n",
    "            max_count=max(max_count,j-i)\n",
    "        else:\n",
    "            while s[i]!=s[j]:\n",
    "                seen.remove(s[i])\n",
    "                i+=1\n",
    "            seen.remove(s[i])\n",
    "            i+=1\n",
    "    return max_count \n",
    "\n",
    "lengthOfLongestSubstring(str2)"
   ]
  },
  {
   "cell_type": "code",
   "execution_count": null,
   "metadata": {},
   "outputs": [],
   "source": []
  }
 ],
 "metadata": {
  "kernelspec": {
   "display_name": "Python 3",
   "language": "python",
   "name": "python3"
  },
  "language_info": {
   "codemirror_mode": {
    "name": "ipython",
    "version": 3
   },
   "file_extension": ".py",
   "mimetype": "text/x-python",
   "name": "python",
   "nbconvert_exporter": "python",
   "pygments_lexer": "ipython3",
   "version": "3.6.7"
  }
 },
 "nbformat": 4,
 "nbformat_minor": 2
}

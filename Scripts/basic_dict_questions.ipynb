{
 "cells": [
  {
   "cell_type": "markdown",
   "metadata": {},
   "source": [
    "# Properties of Dictionaries in Python\n",
    "\n",
    "## 1. **Mutable**\n",
    "   - Dictionaries are **mutable**, meaning you can add, modify, or remove key-value pairs after the dictionary is created.\n",
    "   - Example:\n",
    "     ```python\n",
    "     d = {'a': 1, 'b': 2}\n",
    "     d['a'] = 10  # This will update the value of key 'a' to 10\n",
    "     print(d)  # Output: {'a': 10, 'b': 2}\n",
    "     ```\n",
    "\n",
    "---\n",
    "\n",
    "## 2. **Unordered (Before Python 3.7)**\n",
    "   - Dictionaries in Python 3.6 and earlier are **unordered**, meaning the order of key-value pairs is not guaranteed.\n",
    "   - Starting from Python 3.7, dictionaries maintain **insertion order** as part of the language specification.\n",
    "   - Example:\n",
    "     ```python\n",
    "     d = {'a': 1, 'b': 2, 'c': 3}\n",
    "     print(d)  # Output: {'a': 1, 'b': 2, 'c': 3} (Order preserved in Python 3.7+)\n",
    "     ```\n",
    "\n",
    "---\n",
    "\n",
    "## 3. **Key-Value Pairs**\n",
    "   - Dictionaries store data as **key-value pairs**. Each key is unique and maps to a specific value.\n",
    "   - Example:\n",
    "     ```python\n",
    "     d = {'name': 'Alice', 'age': 25}\n",
    "     print(d['name'])  # Output: Alice\n",
    "     ```\n",
    "\n",
    "---\n",
    "\n",
    "## 4. **Keys Must Be Immutable**\n",
    "   - Dictionary keys must be of an **immutable type**, such as strings, numbers, or tuples. Lists or other dictionaries cannot be used as keys.\n",
    "   - Example:\n",
    "     ```python\n",
    "     d = {(1, 2): 'tuple key'}\n",
    "     print(d[(1, 2)])  # Output: tuple key\n",
    "     ```\n",
    "\n",
    "---\n",
    "\n",
    "## 5. **Values Can Be of Any Type**\n",
    "   - Dictionary values can be of **any type**, including integers, strings, lists, or even other dictionaries.\n",
    "   - Example:\n",
    "     ```python\n",
    "     d = {'a': 1, 'b': [2, 3], 'c': {'nested': 'dict'}}\n",
    "     ```\n",
    "\n",
    "---\n",
    "\n",
    "## 6. **No Duplicate Keys**\n",
    "   - Dictionaries cannot have **duplicate keys**. If a key is assigned a new value, the old value is overwritten.\n",
    "   - Example:\n",
    "     ```python\n",
    "     d = {'a': 1, 'a': 2}\n",
    "     print(d)  # Output: {'a': 2}\n",
    "     ```\n",
    "\n",
    "---\n",
    "\n",
    "## 7. **Dynamic Size**\n",
    "   - Dictionaries are **dynamic**, meaning their size can grow or shrink as key-value pairs are added or removed.\n",
    "   - Example:\n",
    "     ```python\n",
    "     d = {'a': 1}\n",
    "     d['b'] = 2  # Adds a new key-value pair\n",
    "     print(d)  # Output: {'a': 1, 'b': 2}\n",
    "     ```\n",
    "\n",
    "---\n",
    "\n",
    "## 8. **Efficient Lookup**\n",
    "   - Dictionaries provide **O(1) average time complexity** for lookups, insertions, and deletions, making them highly efficient for large datasets.\n",
    "   - Example:\n",
    "     ```python\n",
    "     d = {'a': 1, 'b': 2}\n",
    "     print(d['a'])  # Output: 1 (Fast lookup)\n",
    "     ```\n",
    "\n",
    "---\n",
    "\n",
    "## 9. **Can Be Nested**\n",
    "   - Dictionaries can contain other dictionaries, meaning they support **nesting**.\n",
    "   - Example:\n",
    "     ```python\n",
    "     d = {'a': {'nested': 'dict'}}\n",
    "     print(d['a']['nested'])  # Output: dict\n",
    "     ```\n",
    "\n",
    "---\n",
    "\n",
    "## 10. **Can Be Empty**\n",
    "    - Dictionaries can also be empty, and an empty dictionary is represented by `{}`.\n",
    "    - Example:\n",
    "      ```python\n",
    "      empty_dict = {}\n",
    "      ```\n",
    "\n",
    "---\n",
    "\n",
    "## 11. **Support for Dictionary Comprehensions**\n",
    "    - Dictionaries support **dictionary comprehensions**, which provide a concise way to create or manipulate dictionaries.\n",
    "    - Example:\n",
    "      ```python\n",
    "      d = {x: x**2 for x in range(5)}\n",
    "      print(d)  # Output: {0: 0, 1: 1, 2: 4, 3: 9, 4: 16}\n",
    "      ```\n",
    "\n",
    "---\n",
    "\n",
    "## 12. **Can Be Used with Various Methods**\n",
    "    - Dictionaries come with a wide variety of built-in methods, such as `keys()`, `values()`, `items()`, `get()`, `update()`, and more.\n",
    "    - Example:\n",
    "      ```python\n",
    "      d = {'a': 1, 'b': 2}\n",
    "      print(d.keys())  # Output: dict_keys(['a', 'b'])\n",
    "      print(d.values())  # Output: dict_values([1, 2])\n",
    "      ```\n",
    "\n",
    "---\n",
    "\n",
    "## 13. **Supports Membership Testing**\n",
    "    - You can check if a key exists in a dictionary using the `in` keyword.\n",
    "    - Example:\n",
    "      ```python\n",
    "      d = {'a': 1, 'b': 2}\n",
    "      print('a' in d)  # Output: True\n",
    "      ```\n",
    "\n",
    "---\n",
    "\n",
    "## 14. **Supports Merging (Python 3.9+)**\n",
    "    - Starting from Python 3.9, dictionaries support the `|` operator for merging two dictionaries.\n",
    "    - Example:\n",
    "      ```python\n",
    "      d1 = {'a': 1, 'b': 2}\n",
    "      d2 = {'c': 3, 'd': 4}\n",
    "      merged = d1 | d2\n",
    "      print(merged)  # Output: {'a': 1, 'b': 2, 'c': 3, 'd': 4}\n",
    "      ```\n",
    "\n",
    "---\n",
    "\n",
    "### Summary of Dictionary Properties:\n",
    "- **Mutable**\n",
    "- **Unordered (before Python 3.7) / Ordered (Python 3.7+)**\n",
    "- **Key-value pairs**\n",
    "- **Keys must be immutable**\n",
    "- **Values can be of any type**\n",
    "- **No duplicate keys**\n",
    "- **Dynamic size**\n",
    "- **Efficient lookup (O(1) average time complexity)**\n",
    "- **Can be nested**\n",
    "- **Can be empty**\n",
    "- **Support dictionary comprehensions**\n",
    "- **Can be used with various built-in methods**\n",
    "- **Supports membership testing**\n",
    "- **Supports merging (Python 3.9+)**"
   ]
  },
  {
   "cell_type": "markdown",
   "metadata": {},
   "source": [
    "# Python Programs for Dictionary Operations"
   ]
  },
  {
   "cell_type": "markdown",
   "metadata": {},
   "source": [
    "### 1. Sort a Dictionary by Its Keys and Values\n",
    "\n"
   ]
  },
  {
   "cell_type": "code",
   "execution_count": null,
   "metadata": {},
   "outputs": [
    {
     "data": {
      "text/plain": [
       "{'c': 7, 'a': 5, 'd': 0}"
      ]
     },
     "execution_count": 7,
     "metadata": {},
     "output_type": "execute_result"
    }
   ],
   "source": [
    "def sort_by_keys(dictionary):\n",
    "    return dict(sorted(dictionary.items(),key=lambda x: x[0]))\n",
    "\n",
    "def sort_by_values(dictionary):\n",
    "    return dict(sorted(dictionary.items(),key=lambda x: x[1], reverse= True))\n",
    "\n",
    "d = {'a': 5, 'd': 0, 'c': 7}\n",
    "\n",
    "sort_by_keys(d)\n",
    "sort_by_values(d)"
   ]
  },
  {
   "cell_type": "markdown",
   "metadata": {},
   "source": [
    "### 2. Merge Two Dictionaries"
   ]
  },
  {
   "cell_type": "code",
   "execution_count": 9,
   "metadata": {},
   "outputs": [
    {
     "name": "stdout",
     "output_type": "stream",
     "text": [
      "Merged dictionary: {'a': 1, 'b': 2, 'c': 3, 'd': 4}\n",
      "Merged dictionary while keys overlap: {'a': 1, 'b': 100, 'd': 4}\n"
     ]
    }
   ],
   "source": [
    "def merge_dicts(d1, d2):\n",
    "    return {**d1, **d2}\n",
    "\n",
    "# Example\n",
    "d1 = {'a': 1, 'b': 2}\n",
    "d2 = {'c': 3, 'd': 4}\n",
    "d3 = {'a': 1, 'b': 2}\n",
    "d4 = {'b': 100, 'd': 4}\n",
    "\n",
    "print(\"Merged dictionary:\", merge_dicts(d1, d2))\n",
    "\n",
    "print(\"Merged dictionary while keys overlap:\", merge_dicts(d3, d4))\n",
    "\n",
    "# How it works:\n",
    "\n",
    "# {**d1} unpacks all the key-value pairs from the dictionary d1.\n",
    "# {**d2} unpacks all the key-value pairs from the dictionary d2 and adds them to the merged dictionary.\n",
    "# If there are overlapping keys between d1 and d2, the values from d2 will overwrite those from d1.\n",
    "# In this case, there are no overlapping keys between d1 and d2, so the keys and values from both dictionaries will be combined without overwriting."
   ]
  },
  {
   "cell_type": "markdown",
   "metadata": {},
   "source": [
    "### 3. Remove a Key from a Dictionary"
   ]
  },
  {
   "cell_type": "code",
   "execution_count": null,
   "metadata": {},
   "outputs": [],
   "source": [
    "def remove_key(d, key):\n",
    "    d.pop(key, None)\n",
    "    return d\n",
    "\n",
    "# Example\n",
    "d = {'a': 1, 'b': 2, 'c': 3}\n",
    "key = 'b'\n",
    "print(\"Dictionary after removing key:\", remove_key(d, key))\n",
    "\n",
    "# The Second Parameter - None:\n",
    "\n",
    "# The second parameter in pop() is the default value that will be returned if the specified key doesn't exist in the dictionary.\n",
    "# By passing None as the second parameter, if the key is not found, pop() will not throw an error. Instead, it will simply return None and do nothing to the dictionary."
   ]
  },
  {
   "cell_type": "markdown",
   "metadata": {},
   "source": [
    "### 4. Map Two Lists into a Dictionary"
   ]
  },
  {
   "cell_type": "code",
   "execution_count": 10,
   "metadata": {},
   "outputs": [
    {
     "name": "stdout",
     "output_type": "stream",
     "text": [
      "Mapped dictionary: {'a': 1, 'b': 2, 'c': 3}\n"
     ]
    }
   ],
   "source": [
    "def map_lists_to_dict(keys, values):\n",
    "    return dict(zip(keys, values))\n",
    "\n",
    "# Example\n",
    "keys = ['a', 'b', 'c']\n",
    "values = [1, 2, 3]\n",
    "print(\"Mapped dictionary:\", map_lists_to_dict(keys, values))"
   ]
  },
  {
   "cell_type": "markdown",
   "metadata": {},
   "source": [
    "### 5. Find the Maximum and Minimum Values in a Dictionary"
   ]
  },
  {
   "cell_type": "code",
   "execution_count": 11,
   "metadata": {},
   "outputs": [
    {
     "name": "stdout",
     "output_type": "stream",
     "text": [
      "Max and min values: (20, 5)\n"
     ]
    }
   ],
   "source": [
    "def max_min_values(d):\n",
    "    return max(d.values()), min(d.values())\n",
    "\n",
    "# Example\n",
    "d = {'a': 10, 'b': 20, 'c': 5}\n",
    "print(\"Max and min values:\", max_min_values(d))"
   ]
  },
  {
   "cell_type": "markdown",
   "metadata": {},
   "source": [
    "### 6. Count the Frequency of Each Element in a List Using a Dictionary (using - from collections import Counter)"
   ]
  },
  {
   "cell_type": "code",
   "execution_count": 12,
   "metadata": {},
   "outputs": [
    {
     "name": "stdout",
     "output_type": "stream",
     "text": [
      "Frequency of elements: {1: 1, 2: 2, 3: 3, 4: 1}\n"
     ]
    }
   ],
   "source": [
    "from collections import Counter\n",
    "\n",
    "def count_frequency(lst):\n",
    "    return dict(Counter(lst))\n",
    "\n",
    "# Example\n",
    "lst = [1, 2, 2, 3, 3, 3, 4]\n",
    "print(\"Frequency of elements:\", count_frequency(lst))"
   ]
  },
  {
   "cell_type": "markdown",
   "metadata": {},
   "source": [
    "### 7. Invert a Dictionary (Swap Keys and Values)"
   ]
  },
  {
   "cell_type": "code",
   "execution_count": 18,
   "metadata": {},
   "outputs": [
    {
     "name": "stdout",
     "output_type": "stream",
     "text": [
      "Inverted dictionary: {1: 'a', 2: 'b', 3: (1, '2')}\n"
     ]
    }
   ],
   "source": [
    "def invert_dict(d):\n",
    "    return {v: k for k, v in d.items()}\n",
    "\n",
    "# Example\n",
    "d = {'a': 1, 'b': 2, (1,'2'): 3}   # mark the last key in this dictionary, it has tuple datatype (and the tuple itself built by string and integer datatype)\n",
    "print(\"Inverted dictionary:\", invert_dict(d))"
   ]
  },
  {
   "cell_type": "markdown",
   "metadata": {},
   "source": [
    "### 8. Find Common Keys Between Two Dictionaries"
   ]
  },
  {
   "cell_type": "code",
   "execution_count": 19,
   "metadata": {},
   "outputs": [
    {
     "name": "stdout",
     "output_type": "stream",
     "text": [
      "Common keys: {'c', 'b'}\n"
     ]
    }
   ],
   "source": [
    "def common_keys(d1, d2):\n",
    "    return set(d1.keys()) & set(d2.keys())\n",
    "\n",
    "# Example\n",
    "d1 = {'a': 1, 'b': 2, 'c': 3}\n",
    "d2 = {'b': 2, 'c': 3, 'd': 4}\n",
    "print(\"Common keys:\", common_keys(d1, d2))"
   ]
  },
  {
   "cell_type": "markdown",
   "metadata": {},
   "source": [
    "### 9. Create a Dictionary from a List of Keys and a List of Values"
   ]
  },
  {
   "cell_type": "code",
   "execution_count": null,
   "metadata": {},
   "outputs": [],
   "source": [
    "def create_dict_from_lists(keys, values):\n",
    "    return dict(zip(keys, values))\n",
    "\n",
    "# Example\n",
    "keys = ['a', 'b', 'c']\n",
    "values = [1, 2, 3]\n",
    "print(\"Dictionary from lists:\", create_dict_from_lists(keys, values))"
   ]
  },
  {
   "cell_type": "markdown",
   "metadata": {},
   "source": [
    "### 10. Update the Value of a Key in a Dictionary if It Exists, Otherwise Add the Key with a Specified Value"
   ]
  },
  {
   "cell_type": "code",
   "execution_count": 20,
   "metadata": {},
   "outputs": [
    {
     "name": "stdout",
     "output_type": "stream",
     "text": [
      "Updated dictionary: {'a': 1, 'b': 2, 'c': 3}\n"
     ]
    }
   ],
   "source": [
    "def update_or_add_key(d, key, value):\n",
    "    if key in d:\n",
    "        d[key] = value\n",
    "    else:\n",
    "        d[key] = value\n",
    "    return d\n",
    "\n",
    "# Example\n",
    "d = {'a': 1, 'b': 2}\n",
    "key = 'c'\n",
    "value = 3\n",
    "print(\"Updated dictionary:\", update_or_add_key(d, key, value))"
   ]
  }
 ],
 "metadata": {
  "kernelspec": {
   "display_name": "Python (python_env)",
   "language": "python",
   "name": "myenv"
  },
  "language_info": {
   "codemirror_mode": {
    "name": "ipython",
    "version": 3
   },
   "file_extension": ".py",
   "mimetype": "text/x-python",
   "name": "python",
   "nbconvert_exporter": "python",
   "pygments_lexer": "ipython3",
   "version": "3.12.4"
  }
 },
 "nbformat": 4,
 "nbformat_minor": 4
}

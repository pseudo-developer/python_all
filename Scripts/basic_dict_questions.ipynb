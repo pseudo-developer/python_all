{
 "cells": [
  {
   "cell_type": "markdown",
   "metadata": {},
   "source": [
    "# Python Programs for Dictionary Operations"
   ]
  },
  {
   "cell_type": "markdown",
   "metadata": {},
   "source": [
    "### 1. Sort a Dictionary by Its Values"
   ]
  },
  {
   "cell_type": "code",
   "execution_count": null,
   "metadata": {},
   "outputs": [],
   "source": [
    "def sort_dict_by_values(d):\n",
    "    return dict(sorted(d.items(), key=lambda item: item[1]))\n",
    "\n",
    "# Example\n",
    "d = {'a': 3, 'b': 1, 'c': 2}\n",
    "print(\"Sorted dictionary by values:\", sort_dict_by_values(d))"
   ]
  },
  {
   "cell_type": "markdown",
   "metadata": {},
   "source": [
    "### 2. Merge Two Dictionaries"
   ]
  },
  {
   "cell_type": "code",
   "execution_count": null,
   "metadata": {},
   "outputs": [],
   "source": [
    "def merge_dicts(d1, d2):\n",
    "    return {**d1, **d2}\n",
    "\n",
    "# Example\n",
    "d1 = {'a': 1, 'b': 2}\n",
    "d2 = {'c': 3, 'd': 4}\n",
    "print(\"Merged dictionary:\", merge_dicts(d1, d2))"
   ]
  },
  {
   "cell_type": "markdown",
   "metadata": {},
   "source": [
    "### 3. Remove a Key from a Dictionary"
   ]
  },
  {
   "cell_type": "code",
   "execution_count": null,
   "metadata": {},
   "outputs": [],
   "source": [
    "def remove_key(d, key):\n",
    "    d.pop(key, None)\n",
    "    return d\n",
    "\n",
    "# Example\n",
    "d = {'a': 1, 'b': 2, 'c': 3}\n",
    "key = 'b'\n",
    "print(\"Dictionary after removing key:\", remove_key(d, key))"
   ]
  },
  {
   "cell_type": "markdown",
   "metadata": {},
   "source": [
    "### 4. Map Two Lists into a Dictionary"
   ]
  },
  {
   "cell_type": "code",
   "execution_count": null,
   "metadata": {},
   "outputs": [],
   "source": [
    "def map_lists_to_dict(keys, values):\n",
    "    return dict(zip(keys, values))\n",
    "\n",
    "# Example\n",
    "keys = ['a', 'b', 'c']\n",
    "values = [1, 2, 3]\n",
    "print(\"Mapped dictionary:\", map_lists_to_dict(keys, values))"
   ]
  },
  {
   "cell_type": "markdown",
   "metadata": {},
   "source": [
    "### 5. Find the Maximum and Minimum Values in a Dictionary"
   ]
  },
  {
   "cell_type": "code",
   "execution_count": null,
   "metadata": {},
   "outputs": [],
   "source": [
    "def max_min_values(d):\n",
    "    return max(d.values()), min(d.values())\n",
    "\n",
    "# Example\n",
    "d = {'a': 10, 'b': 20, 'c': 5}\n",
    "print(\"Max and min values:\", max_min_values(d))"
   ]
  },
  {
   "cell_type": "markdown",
   "metadata": {},
   "source": [
    "### 6. Count the Frequency of Each Element in a List Using a Dictionary"
   ]
  },
  {
   "cell_type": "code",
   "execution_count": null,
   "metadata": {},
   "outputs": [],
   "source": [
    "from collections import Counter\n",
    "\n",
    "def count_frequency(lst):\n",
    "    return dict(Counter(lst))\n",
    "\n",
    "# Example\n",
    "lst = [1, 2, 2, 3, 3, 3, 4]\n",
    "print(\"Frequency of elements:\", count_frequency(lst))"
   ]
  },
  {
   "cell_type": "markdown",
   "metadata": {},
   "source": [
    "### 7. Invert a Dictionary (Swap Keys and Values)"
   ]
  },
  {
   "cell_type": "code",
   "execution_count": null,
   "metadata": {},
   "outputs": [],
   "source": [
    "def invert_dict(d):\n",
    "    return {v: k for k, v in d.items()}\n",
    "\n",
    "# Example\n",
    "d = {'a': 1, 'b': 2, 'c': 3}\n",
    "print(\"Inverted dictionary:\", invert_dict(d))"
   ]
  },
  {
   "cell_type": "markdown",
   "metadata": {},
   "source": [
    "### 8. Find Common Keys Between Two Dictionaries"
   ]
  },
  {
   "cell_type": "code",
   "execution_count": null,
   "metadata": {},
   "outputs": [],
   "source": [
    "def common_keys(d1, d2):\n",
    "    return set(d1.keys()) & set(d2.keys())\n",
    "\n",
    "# Example\n",
    "d1 = {'a': 1, 'b': 2, 'c': 3}\n",
    "d2 = {'b': 2, 'c': 3, 'd': 4}\n",
    "print(\"Common keys:\", common_keys(d1, d2))"
   ]
  },
  {
   "cell_type": "markdown",
   "metadata": {},
   "source": [
    "### 9. Create a Dictionary from a List of Keys and a List of Values"
   ]
  },
  {
   "cell_type": "code",
   "execution_count": null,
   "metadata": {},
   "outputs": [],
   "source": [
    "def create_dict_from_lists(keys, values):\n",
    "    return dict(zip(keys, values))\n",
    "\n",
    "# Example\n",
    "keys = ['a', 'b', 'c']\n",
    "values = [1, 2, 3]\n",
    "print(\"Dictionary from lists:\", create_dict_from_lists(keys, values))"
   ]
  },
  {
   "cell_type": "markdown",
   "metadata": {},
   "source": [
    "### 10. Update the Value of a Key in a Dictionary if It Exists, Otherwise Add the Key with a Specified Value"
   ]
  },
  {
   "cell_type": "code",
   "execution_count": null,
   "metadata": {},
   "outputs": [],
   "source": [
    "def update_or_add_key(d, key, value):\n",
    "    if key in d:\n",
    "        d[key] = value\n",
    "    else:\n",
    "        d[key] = value\n",
    "    return d\n",
    "\n",
    "# Example\n",
    "d = {'a': 1, 'b': 2}\n",
    "key = 'c'\n",
    "value = 3\n",
    "print(\"Updated dictionary:\", update_or_add_key(d, key, value))"
   ]
  }
 ],
 "metadata": {
  "kernelspec": {
   "display_name": "Python 3",
   "language": "python",
   "name": "python3"
  },
  "language_info": {
   "codemirror_mode": {
    "name": "ipython",
    "version": 3
   },
   "file_extension": ".py",
   "mimetype": "text/x-python",
   "name": "python",
   "nbconvert_exporter": "python",
   "pygments_lexer": "ipython3",
   "version": "3.8.5"
  }
 },
 "nbformat": 4,
 "nbformat_minor": 4
}
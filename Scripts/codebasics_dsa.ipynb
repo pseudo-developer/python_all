{
 "cells": [
  {
   "cell_type": "markdown",
   "metadata": {},
   "source": [
    "## Video 3 - Lists"
   ]
  },
  {
   "cell_type": "markdown",
   "metadata": {},
   "source": [
    "Question 1:\n",
    "\n",
    "Exercise: Array DataStructure\n",
    "Let us say your expense for every month are listed below,\n",
    "January - 2200\n",
    "February - 2350\n",
    "March - 2600\n",
    "April - 2130\n",
    "May - 2190\n",
    "Create a list to store these monthly expenses and using that find out,\n",
    "\n",
    "1. In Feb, how many dollars you spent extra compare to January?\n",
    "2. Find out your total expense in first quarter (first three months) of the year.\n",
    "3. Find out if you spent exactly 2000 dollars in any month\n",
    "4. June month just finished and your expense is 1980 dollar. Add this item to our monthly expense list\n",
    "5. You returned an item that you bought in a month of April and\n",
    "got a refund of 200$. Make a correction to your monthly expense list\n",
    "based on this"
   ]
  },
  {
   "cell_type": "code",
   "execution_count": 3,
   "metadata": {},
   "outputs": [],
   "source": [
    "lst1_video3 = [\n",
    "    {'jan':2200},\n",
    "    {'feb':2350},\n",
    "    {'mar':2600},\n",
    "    {'apr':2130},\n",
    "    {'may':2190},\n",
    "]"
   ]
  },
  {
   "cell_type": "code",
   "execution_count": 4,
   "metadata": {},
   "outputs": [
    {
     "name": "stdout",
     "output_type": "stream",
     "text": [
      "\n",
      "Solution 1 : method 1\n",
      "spent_extra : 150\n",
      "\n",
      "Solution 2 : method 1\n",
      "first_quarter_exp : 7150\n",
      "\n",
      "Solution 2 : method 2\n",
      "first_quarter_total_exp : 7150\n",
      "\n",
      "Solution 3 : method 1\n",
      "No month where expense is 2000\n"
     ]
    }
   ],
   "source": [
    "# sol 1: In Feb, how many dollars you spent extra compared to January?\n",
    "print(\"\\nSolution 1 : method 1\")\n",
    "spent_extra = lst1_video3[1]['feb'] - lst1_video3[0]['jan']\n",
    "print(\"spent_extra :\", spent_extra)\n",
    "\n",
    "##############################################################\n",
    "\n",
    "# sol 2: Find out your total expense in first quarter (first three months) of the year.\n",
    "print(\"\\nSolution 2 : method 1\")\n",
    "first_quarter_exp = lst1_video3[0]['jan'] + lst1_video3[1]['feb'] + lst1_video3[2]['mar']\n",
    "print(\"first_quarter_exp :\", first_quarter_exp)\n",
    "\n",
    "#OR\n",
    "#method 2\n",
    "\n",
    "print(\"\\nSolution 2 : method 2\")\n",
    "first_quarter_total_exp=0\n",
    "for index,video in enumerate(lst1_video3):\n",
    "    # print(f'index is {index} and amount is {video}')\n",
    "    if index <=2:\n",
    "        for month,amount in video.items():\n",
    "            first_quarter_total_exp+=amount\n",
    "print(\"first_quarter_total_exp :\", first_quarter_total_exp)\n",
    "\n",
    "##############################################################\n",
    "\n",
    "# 3. Find out if you spent exactly 2000 dollars in any month\n",
    "print(\"\\nSolution 3 : method 1\")\n",
    "for mapping in lst1_video3:\n",
    "    for month,expense in mapping.items():\n",
    "        if expense ==200:\n",
    "            print(\"Spent 2000 in month :\",month)\n",
    "else:\n",
    "    print(\"No month where expense is 2000\")\n",
    "    \n",
    "##############################################################\n",
    "\n",
    "# 4. June month just finished and your expense is 1980 dollar. Add this item to our monthly expense list\n",
    "\n",
    "\n",
    "##############################################################\n",
    "\n",
    "# 5. You returned an item that you bought in a month of April and\n",
    "# got a refund of 200$. Make a correction to your monthly expense list\n",
    "# based on this\n",
    "\n"
   ]
  },
  {
   "cell_type": "code",
   "execution_count": null,
   "metadata": {},
   "outputs": [],
   "source": []
  }
 ],
 "metadata": {
  "kernelspec": {
   "display_name": "Python 3",
   "language": "python",
   "name": "python3"
  },
  "language_info": {
   "codemirror_mode": {
    "name": "ipython",
    "version": 3
   },
   "file_extension": ".py",
   "mimetype": "text/x-python",
   "name": "python",
   "nbconvert_exporter": "python",
   "pygments_lexer": "ipython3",
   "version": "3.6.7"
  }
 },
 "nbformat": 4,
 "nbformat_minor": 2
}

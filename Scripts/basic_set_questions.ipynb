{
 "cells": [
  {
   "cell_type": "markdown",
   "metadata": {},
   "source": [
    "# Properties of Sets in Python\n",
    "\n",
    "## 1. **Mutable**\n",
    "   - Sets are **mutable**, meaning you can add or remove elements after the set is created.\n",
    "   - Example:\n",
    "     ```python\n",
    "     s = {1, 2, 3}\n",
    "     s.add(4)  # Adds 4 to the set\n",
    "     print(s)  # Output: {1, 2, 3, 4}\n",
    "     ```\n",
    "\n",
    "---\n",
    "\n",
    "## 2. **Unordered**\n",
    "   - Sets are **unordered**, meaning the elements are stored in an arbitrary order. You cannot access elements by indexing.\n",
    "   - Example:\n",
    "     ```python\n",
    "     s = {1, 2, 3}\n",
    "     print(s)  # Output: {1, 2, 3} (Order may vary)\n",
    "     ```\n",
    "\n",
    "---\n",
    "\n",
    "## 3. **Unique Elements**\n",
    "   - Sets cannot contain **duplicate elements**. If you try to add a duplicate, it will be ignored.\n",
    "   - Example:\n",
    "     ```python\n",
    "     s = {1, 2, 2, 3}\n",
    "     print(s)  # Output: {1, 2, 3}\n",
    "     ```\n",
    "\n",
    "---\n",
    "\n",
    "## 4. **Heterogeneous**\n",
    "   - Sets can store elements of **different data types**, such as integers, strings, floats, and even tuples (but not lists or other sets).\n",
    "   - Example:\n",
    "     ```python\n",
    "     s = {1, \"Hello\", 3.14, (4, 5)}\n",
    "     ```\n",
    "\n",
    "---\n",
    "\n",
    "## 5. **No Indexing**\n",
    "   - Sets do not support **indexing** or **slicing** because they are unordered.\n",
    "   - Example:\n",
    "     ```python\n",
    "     s = {1, 2, 3}\n",
    "     # print(s[0])  # This will raise a TypeError\n",
    "     ```\n",
    "\n",
    "---\n",
    "\n",
    "## 6. **Dynamic Size**\n",
    "   - Sets are **dynamic**, meaning their size can grow or shrink as elements are added or removed.\n",
    "   - Example:\n",
    "     ```python\n",
    "     s = {1, 2, 3}\n",
    "     s.add(4)  # Adds 4 to the set\n",
    "     s.remove(2)  # Removes 2 from the set\n",
    "     print(s)  # Output: {1, 3, 4}\n",
    "     ```\n",
    "\n",
    "---\n",
    "\n",
    "## 7. **Efficient Membership Testing**\n",
    "   - Sets provide **O(1) average time complexity** for membership testing, making them highly efficient for checking if an element exists in the set.\n",
    "   - Example:\n",
    "     ```python\n",
    "     s = {1, 2, 3}\n",
    "     print(2 in s)  # Output: True\n",
    "     ```\n",
    "\n",
    "---\n",
    "\n",
    "## 8. **Can Be Nested (with Frozen Sets)**\n",
    "   - Sets cannot contain mutable objects like lists or other sets. However, you can use **frozen sets** (immutable sets) to create nested sets.\n",
    "   - Example:\n",
    "     ```python\n",
    "     s = {1, 2, frozenset({3, 4})}\n",
    "     print(s)  # Output: {1, 2, frozenset({3, 4})}\n",
    "     ```\n",
    "\n",
    "---\n",
    "\n",
    "## 9. **Can Be Empty**\n",
    "   - Sets can also be empty, and an empty set is represented by `set()` (not `{}`, as that creates an empty dictionary).\n",
    "   - Example:\n",
    "     ```python\n",
    "     empty_set = set()\n",
    "     print(empty_set)  # Output: set()\n",
    "     ```\n",
    "\n",
    "---\n",
    "\n",
    "## 10. **Support for Set Operations**\n",
    "    - Sets support mathematical operations like **union**, **intersection**, **difference**, and **symmetric difference**.\n",
    "    - Example:\n",
    "      ```python\n",
    "      s1 = {1, 2, 3}\n",
    "      s2 = {3, 4, 5}\n",
    "      print(s1.union(s2))  # Output: {1, 2, 3, 4, 5}\n",
    "      print(s1.intersection(s2))  # Output: {3}\n",
    "      print(s1.difference(s2))  # Output: {1, 2}\n",
    "      print(s1.symmetric_difference(s2))  # Output: {1, 2, 4, 5}\n",
    "      ```\n",
    "\n",
    "---\n",
    "\n",
    "## 11. **Support for Set Comprehensions**\n",
    "    - Sets support **set comprehensions**, which provide a concise way to create or manipulate sets.\n",
    "    - Example:\n",
    "      ```python\n",
    "      s = {x**2 for x in range(5)}\n",
    "      print(s)  # Output: {0, 1, 4, 9, 16}\n",
    "      ```\n",
    "\n",
    "---\n",
    "\n",
    "## 12. **Can Be Used with Various Methods**\n",
    "    - Sets come with a wide variety of built-in methods, such as `add()`, `remove()`, `discard()`, `pop()`, `clear()`, and more.\n",
    "    - Example:\n",
    "      ```python\n",
    "      s = {1, 2, 3}\n",
    "      s.add(4)  # Adds 4 to the set\n",
    "      s.remove(2)  # Removes 2 from the set\n",
    "      print(s)  # Output: {1, 3, 4}\n",
    "      ```\n",
    "\n",
    "---\n",
    "\n",
    "## 13. **Supports Membership Testing**\n",
    "    - You can check if an element exists in a set using the `in` keyword.\n",
    "    - Example:\n",
    "      ```python\n",
    "      s = {1, 2, 3}\n",
    "      print(2 in s)  # Output: True\n",
    "      ```\n",
    "\n",
    "---\n",
    "\n",
    "## 14. **Immutable Counterpart: Frozen Sets**\n",
    "    - **Frozen sets** are immutable versions of sets. They can be used as keys in dictionaries or elements in other sets.\n",
    "    - Example:\n",
    "      ```python\n",
    "      fs = frozenset({1, 2, 3})\n",
    "      d = {fs: 'frozen set'}\n",
    "      print(d)  # Output: {frozenset({1, 2, 3}): 'frozen set'}\n",
    "      ```\n",
    "\n",
    "---\n",
    "\n",
    "### Summary of Set Properties:\n",
    "- **Mutable**\n",
    "- **Unordered**\n",
    "- **Unique elements**\n",
    "- **Heterogeneous (can store different data types)**\n",
    "- **No indexing or slicing**\n",
    "- **Dynamic size**\n",
    "- **Efficient membership testing (O(1) average time complexity)**\n",
    "- **Can be nested (with frozen sets)**\n",
    "- **Can be empty**\n",
    "- **Support for set operations (union, intersection, difference, etc.)**\n",
    "- **Support for set comprehensions**\n",
    "- **Can be used with various built-in methods**\n",
    "- **Supports membership testing**\n",
    "- **Immutable counterpart: Frozen sets**"
   ]
  },
  {
   "cell_type": "markdown",
   "metadata": {},
   "source": [
    "# Python Programs for Set Operations"
   ]
  },
  {
   "cell_type": "markdown",
   "metadata": {},
   "source": [
    "### 1. Find the Union of Two Sets"
   ]
  },
  {
   "cell_type": "code",
   "execution_count": null,
   "metadata": {},
   "outputs": [],
   "source": [
    "def union_of_sets(set1, set2):\n",
    "    return set1.union(set2)\n",
    "\n",
    "# Example\n",
    "set1 = {1, 2, 3}\n",
    "set2 = {3, 4, 5}\n",
    "print(\"Union of sets:\", union_of_sets(set1, set2))"
   ]
  },
  {
   "cell_type": "markdown",
   "metadata": {},
   "source": [
    "### 2. Find the Difference Between Two Sets"
   ]
  },
  {
   "cell_type": "code",
   "execution_count": null,
   "metadata": {},
   "outputs": [],
   "source": [
    "def difference_of_sets(set1, set2):\n",
    "    return set1.difference(set2)\n",
    "\n",
    "# Example\n",
    "set1 = {1, 2, 3, 4}\n",
    "set2 = {3, 4, 5}\n",
    "print(\"Difference of sets (set1 - set2):\", difference_of_sets(set1, set2))"
   ]
  },
  {
   "cell_type": "markdown",
   "metadata": {},
   "source": [
    "### 3. Find the Symmetric Difference Between Two Sets"
   ]
  },
  {
   "cell_type": "code",
   "execution_count": null,
   "metadata": {},
   "outputs": [],
   "source": [
    "def symmetric_difference(set1, set2):\n",
    "    return set1.symmetric_difference(set2)\n",
    "\n",
    "# Example\n",
    "set1 = {1, 2, 3, 4}\n",
    "set2 = {3, 4, 5}\n",
    "print(\"Symmetric difference:\", symmetric_difference(set1, set2))"
   ]
  },
  {
   "cell_type": "markdown",
   "metadata": {},
   "source": [
    "### 4. Check if a Set is a Subset of Another Set"
   ]
  },
  {
   "cell_type": "code",
   "execution_count": null,
   "metadata": {},
   "outputs": [],
   "source": [
    "def is_subset(set1, set2):\n",
    "    return set1.issubset(set2)\n",
    "\n",
    "# Example\n",
    "set1 = {1, 2}\n",
    "set2 = {1, 2, 3, 4}\n",
    "print(\"Is set1 a subset of set2?\", is_subset(set1, set2))"
   ]
  },
  {
   "cell_type": "markdown",
   "metadata": {},
   "source": [
    "### 5. Remove Duplicates from a List Using a Set"
   ]
  },
  {
   "cell_type": "code",
   "execution_count": null,
   "metadata": {},
   "outputs": [],
   "source": [
    "def remove_duplicates(lst):\n",
    "    return list(set(lst))\n",
    "\n",
    "# Example\n",
    "lst = [1, 2, 2, 3, 4, 4, 5]\n",
    "print(\"List without duplicates:\", remove_duplicates(lst))"
   ]
  },
  {
   "cell_type": "markdown",
   "metadata": {},
   "source": [
    "### 6. Find the Intersection of Three Sets"
   ]
  },
  {
   "cell_type": "code",
   "execution_count": null,
   "metadata": {},
   "outputs": [],
   "source": [
    "def intersection_of_three(set1, set2, set3):\n",
    "    return set1.intersection(set2, set3)\n",
    "\n",
    "# Example\n",
    "set1 = {1, 2, 3, 4}\n",
    "set2 = {2, 3, 4, 5}\n",
    "set3 = {3, 4, 5, 6}\n",
    "print(\"Intersection of three sets:\", intersection_of_three(set1, set2, set3))"
   ]
  },
  {
   "cell_type": "markdown",
   "metadata": {},
   "source": [
    "### 7. Check if a Set is Disjoint from Another Set"
   ]
  },
  {
   "cell_type": "code",
   "execution_count": null,
   "metadata": {},
   "outputs": [],
   "source": [
    "def is_disjoint(set1, set2):\n",
    "    return set1.isdisjoint(set2)\n",
    "\n",
    "# Example\n",
    "set1 = {1, 2, 3}\n",
    "set2 = {4, 5, 6}\n",
    "print(\"Are set1 and set2 disjoint?\", is_disjoint(set1, set2))"
   ]
  },
  {
   "cell_type": "markdown",
   "metadata": {},
   "source": [
    "### 8. Find the Maximum and Minimum Values in a Set"
   ]
  },
  {
   "cell_type": "code",
   "execution_count": null,
   "metadata": {},
   "outputs": [],
   "source": [
    "def max_min_in_set(s):\n",
    "    return max(s), min(s)\n",
    "\n",
    "# Example\n",
    "s = {10, 20, 30, 40, 50}\n",
    "print(\"Max and min in set:\", max_min_in_set(s))"
   ]
  },
  {
   "cell_type": "markdown",
   "metadata": {},
   "source": [
    "### 9. Add and Remove Elements from a Set"
   ]
  },
  {
   "cell_type": "code",
   "execution_count": null,
   "metadata": {},
   "outputs": [],
   "source": [
    "def add_remove_elements(s):\n",
    "    print(\"Original set:\", s)\n",
    "    s.add(6)  # Add an element\n",
    "    print(\"After adding 6:\", s)\n",
    "    s.discard(2)  # Remove an element\n",
    "    print(\"After removing 2:\", s)\n",
    "\n",
    "# Example\n",
    "s = {1, 2, 3, 4, 5}\n",
    "add_remove_elements(s)"
   ]
  },
  {
   "cell_type": "markdown",
   "metadata": {},
   "source": [
    "### 10. Create a Set of Unique Elements from a List of Tuples"
   ]
  },
  {
   "cell_type": "code",
   "execution_count": null,
   "metadata": {},
   "outputs": [],
   "source": [
    "def unique_elements_from_tuples(lst):\n",
    "    return {item for tup in lst for item in tup}\n",
    "\n",
    "# Example\n",
    "lst = [(1, 2), (2, 3), (3, 4), (4, 5)]\n",
    "print(\"Unique elements from list of tuples:\", unique_elements_from_tuples(lst))"
   ]
  }
 ],
 "metadata": {
  "kernelspec": {
   "display_name": "Python 3",
   "language": "python",
   "name": "python3"
  },
  "language_info": {
   "codemirror_mode": {
    "name": "ipython",
    "version": 3
   },
   "file_extension": ".py",
   "mimetype": "text/x-python",
   "name": "python",
   "nbconvert_exporter": "python",
   "pygments_lexer": "ipython3",
   "version": "3.8.5"
  }
 },
 "nbformat": 4,
 "nbformat_minor": 4
}
